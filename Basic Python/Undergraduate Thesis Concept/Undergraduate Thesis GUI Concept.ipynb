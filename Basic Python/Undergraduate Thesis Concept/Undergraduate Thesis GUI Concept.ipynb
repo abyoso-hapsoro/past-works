{
 "cells": [
  {
   "attachments": {},
   "cell_type": "markdown",
   "metadata": {},
   "source": [
    "# Undergraduate Thesis Title:\n",
    "<font size = 2>\n",
    "    <br>\n",
    "</font>\n",
    "<font size = 5 color = blue|green>\n",
    "    Semi-Supervised Learning for Object Localization in Images with Knowledge Transfer\n",
    "</font>"
   ]
  },
  {
   "cell_type": "code",
   "execution_count": 1,
   "metadata": {},
   "outputs": [],
   "source": [
    "__author__ = \"Abyoso Hapsoro Nurhadi\"\n",
    "__copyright__ = \"University of Indonesia's Department of Mathematics 2018\""
   ]
  },
  {
   "attachments": {},
   "cell_type": "markdown",
   "metadata": {},
   "source": [
    "# Check for Packages"
   ]
  },
  {
   "cell_type": "code",
   "execution_count": 2,
   "metadata": {},
   "outputs": [
    {
     "name": "stdout",
     "output_type": "stream",
     "text": [
      "Python 3.6.5 (v3.6.5:f59c0932b4, Mar 28 2018, 16:07:46) [MSC v.1900 32 bit (Intel)] \n",
      "\n",
      "IPython\t: 6.3.1\n",
      "PIL\t: 5.3.0\n",
      "cv2\t: 3.4.3\n",
      "tkinter\t: 8.6\n"
     ]
    }
   ],
   "source": [
    "import sys\n",
    "print('Python', sys.version, '\\n')\n",
    "\n",
    "import IPython\n",
    "print('IPython\\t:', IPython.__version__)\n",
    "\n",
    "import PIL\n",
    "print('PIL\\t:', PIL.__version__)\n",
    "\n",
    "import cv2\n",
    "print('cv2\\t:', cv2.__version__)\n",
    "\n",
    "if sys.version[0] == '2':\n",
    "    import Tkinter\n",
    "    from Tkinter import *\n",
    "    import ttk\n",
    "    print('Tkinter\\t:', Tkinter.TkVersion)\n",
    "else:\n",
    "    import tkinter\n",
    "    from tkinter import *\n",
    "    import tkinter.ttk as ttk\n",
    "    print('tkinter\\t:', tkinter.TkVersion)"
   ]
  },
  {
   "cell_type": "code",
   "execution_count": 3,
   "metadata": {},
   "outputs": [],
   "source": [
    "from PIL import Image, ImageTk\n",
    "\n",
    "import warnings\n",
    "warnings.filterwarnings(\"ignore\") #ignore warnings"
   ]
  },
  {
   "attachments": {},
   "cell_type": "markdown",
   "metadata": {},
   "source": [
    "# Define the Class"
   ]
  },
  {
   "cell_type": "code",
   "execution_count": 4,
   "metadata": {},
   "outputs": [],
   "source": [
    "class Localizer:\n",
    "    def __init__(self, master, title, icon, version):\n",
    "        self.master = master\n",
    "        self.title = title + ' v%s'%(version)\n",
    "        self.icon = icon\n",
    "        \n",
    "        self.master.title(self.title)\n",
    "        self.master.wm_iconbitmap(icon)\n",
    "        self.master.geometry('1366x656+0+0')\n",
    "        self.master.resizable(width = False, height = False)\n",
    "        \n",
    "        self.components()\n",
    "        \n",
    "        self.menus(self.master)\n",
    "        \n",
    "    def components(self):\n",
    "        self.InFrame = LabelFrame(self.master, text = 'Input Image')\n",
    "        self.IOImage = cv2.imread('dog.jpg')\n",
    "        self.IImage = cv2.cvtColor(cv2.resize(self.IOImage, (580, 580)), cv2.COLOR_BGR2RGB)\n",
    "        self.InImage = PIL.ImageTk.PhotoImage(master = self.InFrame, image = PIL.Image.fromarray(self.IImage))\n",
    "        self.InLabel = Label(self.InFrame, width = 580, height = 580, image = self.InImage)\n",
    "        self.InLabel.grid(row = 0, column = 0)\n",
    "        \n",
    "        self.SchFrame = LabelFrame(self.master, text = 'Search', padx = 5, pady = 5)\n",
    "        self.entry1 = Entry(self.SchFrame, font = (('Cambria', '12')), justify = 'center')\n",
    "        self.entry1.config(width = 8)\n",
    "        self.entry1.grid(row = 0, column = 0, sticky = W + E)\n",
    "        self.entry2 = Entry(self.SchFrame, font = (('Cambria', '12')), justify = 'center')\n",
    "        self.entry2.grid(row = 1, column = 0, sticky = W + E)\n",
    "        self.entry3 = Entry(self.SchFrame, font = (('Cambria', '12')), justify = 'center')\n",
    "        self.entry3.grid(row = 2, column = 0, sticky = W + E)\n",
    "        self.entry4 = Entry(self.SchFrame, font = (('Cambria', '12')), justify = 'center')\n",
    "        self.entry4.grid(row = 3, column = 0, sticky = W + E)\n",
    "        self.entry5 = Entry(self.SchFrame, font = (('Cambria', '12')), justify = 'center')\n",
    "        self.entry5.grid(row = 4, column = 0, sticky = W + E)\n",
    "        self.addentry = Button(self.SchFrame, text = 'Add Search', font = (('Cambria', '11')), relief = RIDGE)\n",
    "        self.addentry.grid(row = 5, column = 0, pady = 5, sticky = W + E)\n",
    "        self.localall = Button(self.SchFrame, text = 'Localize All', font = (('Cambria', '14')))\n",
    "        self.localall.grid(row = 6, column = 0, pady = 2, sticky = W + E)\n",
    "        \n",
    "        self.OutFrame = LabelFrame(self.master, text = 'Output Image')\n",
    "        self.OOImage = cv2.imread('dog_detected.jpg')\n",
    "        self.OImage = cv2.cvtColor(cv2.resize(self.OOImage, (580, 580)), cv2.COLOR_BGR2RGB)\n",
    "        self.OutImage = PIL.ImageTk.PhotoImage(master = self.OutFrame, image = PIL.Image.fromarray(self.OImage))\n",
    "        self.OutLabel = Label(self.OutFrame, width = 580, height = 580, image = self.OutImage)\n",
    "        self.OutLabel.grid(row = 0, column = 0)\n",
    "        \n",
    "        self.InFrame.grid(padx = (0, 0), pady = (0, 0), row = 0, column = 0)\n",
    "        self.SchFrame.grid(padx = (0, 0), pady = (0, 375), row = 0, column = 1)\n",
    "        self.OutFrame.grid(padx = (0, 0), pady = (0, 0), row = 0, column = 2)\n",
    "        \n",
    "        self.cmessage = 'Created by Abyoso Hapsoro Nurhadi'\n",
    "        self.creator_text = StringVar()\n",
    "        self.creator_text.set(self.cmessage)\n",
    "        self.creator = Label(self.master,\n",
    "                             textvariable = self.creator_text,\n",
    "                             font = (('Cambria', '16')),\n",
    "                             relief = SUNKEN)\n",
    " \n",
    "        self.creator.grid(row = 1, column = 0, columnspan = 3, sticky = W + E)\n",
    "        \n",
    "    def menus(self, master):\n",
    "        menu = Menu(master)\n",
    "        master.config(menu = menu)\n",
    "        \n",
    "        fileMenu = Menu(menu, tearoff = 0)\n",
    "        menu.add_cascade(label = 'File', menu = fileMenu)\n",
    "        fileMenu.add_command(label = 'Exit', command = master.destroy)\n",
    "    \n",
    "        aboutMenu = Menu(menu, tearoff = 0)\n",
    "        menu.add_cascade(label = 'About', menu = aboutMenu)\n",
    "        aboutMenu.add_command(label = 'About', command = self.About)\n",
    "    \n",
    "    def About(self):\n",
    "        toplevel = Toplevel()\n",
    "        toplevel.title(Title + ' v%s: About'%(ver))\n",
    "        toplevel.iconbitmap(icon)\n",
    "        toplevel.geometry('500x200')\n",
    "        toplevel.resizable(width = False, height = False)\n",
    "        label = Label(toplevel,\n",
    "                      text = 'This program is made by Xyba, student of Mathematics UI 2016\\n\\n\\n\\n\\n2018 - Xyba Project',\n",
    "                      font = (('Cambria', '12')),\n",
    "                      height = 100,\n",
    "                      width = 100)\n",
    "        label.pack()\n",
    "        \n",
    "Title = 'Object Localizer'\n",
    "icon = 'Xyba_Logo.ico'\n",
    "ver = '0.0.7'\n",
    "\n",
    "def main():\n",
    "    root = Tk()\n",
    "    Localizer(root, Title, icon, ver)\n",
    "    root.mainloop()\n",
    "\n",
    "if __name__ == '__main__':\n",
    "    main()"
   ]
  }
 ],
 "metadata": {
  "kernelspec": {
   "display_name": "Python 3",
   "language": "python",
   "name": "python3"
  },
  "language_info": {
   "codemirror_mode": {
    "name": "ipython",
    "version": 3
   },
   "file_extension": ".py",
   "mimetype": "text/x-python",
   "name": "python",
   "nbconvert_exporter": "python",
   "pygments_lexer": "ipython3",
   "version": "3.6.5"
  }
 },
 "nbformat": 4,
 "nbformat_minor": 2
}
