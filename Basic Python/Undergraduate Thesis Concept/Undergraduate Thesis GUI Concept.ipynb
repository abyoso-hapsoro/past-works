{
 "cells": [
  {
   "cell_type": "markdown",
   "metadata": {},
   "source": [
    "# Undergraduate Thesis Title:\n",
    "<font size = 2>\n",
    "    <br>\n",
    "</font>\n",
    "<font size = 5 color = blue|green>\n",
    "    Semi-Supervised Learning for Object Localization in Images with Knowledge Transfer\n",
    "</font>"
   ]
  },
  {
   "cell_type": "code",
   "execution_count": 1,
   "metadata": {},
   "outputs": [],
   "source": [
    "__author__ = \"Abyoso Hapsoro Nurhadi\"\n",
    "__copyright__ = \"University of Indonesia's Department of Mathematics 2018\""
   ]
  },
  {
   "cell_type": "markdown",
   "metadata": {},
   "source": [
    "# Check for Packages"
   ]
  },
  {
   "cell_type": "code",
   "execution_count": 2,
   "metadata": {},
   "outputs": [
    {
     "name": "stdout",
     "output_type": "stream",
     "text": [
      "Python 3.6.5 (v3.6.5:f59c0932b4, Mar 28 2018, 16:07:46) [MSC v.1900 32 bit (Intel)] \n",
      "\n",
      "IPython\t: 6.3.1\n",
      "PIL\t: 5.3.0\n",
      "cv2\t: 3.4.3\n",
      "tkinter\t: 8.6\n"
     ]
    }
   ],
   "source": [
    "import sys\n",
    "print('Python', sys.version, '\\n')\n",
    "\n",
    "import IPython\n",
    "print('IPython\\t:', IPython.__version__)\n",
    "\n",
    "import PIL\n",
    "print('PIL\\t:', PIL.__version__)\n",
    "\n",
    "import cv2\n",
    "print('cv2\\t:', cv2.__version__)\n",
    "\n",
    "if sys.version[0] == '2':\n",
    "    import Tkinter\n",
    "    from Tkinter import *\n",
    "    import ttk\n",
    "    print('Tkinter\\t:', Tkinter.TkVersion)\n",
    "else:\n",
    "    import tkinter\n",
    "    from tkinter import *\n",
    "    import tkinter.ttk as ttk\n",
    "    print('tkinter\\t:', tkinter.TkVersion)"
   ]
  },
  {
   "cell_type": "code",
   "execution_count": 3,
   "metadata": {},
   "outputs": [],
   "source": [
    "from PIL import Image, ImageTk\n",
    "\n",
    "import warnings\n",
    "warnings.filterwarnings(\"ignore\") #ignore warnings"
   ]
  },
  {
   "cell_type": "markdown",
   "metadata": {},
   "source": [
    "# Define the Class"
   ]
  },
  {
   "cell_type": "code",
   "execution_count": 4,
   "metadata": {},
   "outputs": [],
   "source": [
    "class Localizer:\n",
    "    def __init__(self, master, title, icon, version):\n",
    "        self.master = master\n",
    "        self.title = title + ' v%s'%(version)\n",
    "        self.icon = icon\n",
    "        \n",
    "        self.master.title(self.title)\n",
    "        self.master.wm_iconbitmap(icon)\n",
    "        self.master.geometry('1366x656+0+0')\n",
    "        self.master.resizable(width = False, height = False)\n",
    "        \n",
    "        self.components()\n",
    "        \n",
    "        self.menus(self.master)\n",
    "        \n",
    "    def components(self):\n",
    "        self.InFrame = LabelFrame(self.master, text = 'Input Image')\n",
    "        self.IOImage = cv2.imread('dog.jpg')\n",
    "        self.IImage = cv2.cvtColor(cv2.resize(self.IOImage, (580, 580)), cv2.COLOR_BGR2RGB)\n",
    "        self.InImage = PIL.ImageTk.PhotoImage(master = self.InFrame, image = PIL.Image.fromarray(self.IImage))\n",
    "        self.InLabel = Label(self.InFrame, width = 580, height = 580, image = self.InImage)\n",
    "        self.InLabel.grid(row = 0, column = 0)\n",
    "        \n",
    "        self.SchFrame = LabelFrame(self.master, text = 'Search', padx = 5, pady = 5)\n",
    "        self.entry1 = Entry(self.SchFrame, font = (('Cambria', '12')), justify = 'center')\n",
    "        self.entry1.config(width = 8)\n",
    "        self.entry1.grid(row = 0, column = 0, sticky = W + E)\n",
    "        self.entry2 = Entry(self.SchFrame, font = (('Cambria', '12')), justify = 'center')\n",
    "        self.entry2.grid(row = 1, column = 0, sticky = W + E)\n",
    "        self.entry3 = Entry(self.SchFrame, font = (('Cambria', '12')), justify = 'center')\n",
    "        self.entry3.grid(row = 2, column = 0, sticky = W + E)\n",
    "        self.entry4 = Entry(self.SchFrame, font = (('Cambria', '12')), justify = 'center')\n",
    "        self.entry4.grid(row = 3, column = 0, sticky = W + E)\n",
    "        self.entry5 = Entry(self.SchFrame, font = (('Cambria', '12')), justify = 'center')\n",
    "        self.entry5.grid(row = 4, column = 0, sticky = W + E)\n",
    "        self.addentry = Button(self.SchFrame, text = 'Add Search', font = (('Cambria', '11')), relief = RIDGE)\n",
    "        self.addentry.grid(row = 5, column = 0, pady = 5, sticky = W + E)\n",
    "        self.localall = Button(self.SchFrame, text = 'Localize All', font = (('Cambria', '14')))\n",
    "        self.localall.grid(row = 6, column = 0, pady = 2, sticky = W + E)\n",
    "        \n",
    "        self.OutFrame = LabelFrame(self.master, text = 'Output Image')\n",
    "        self.OOImage = cv2.imread('dog_detected.jpg')\n",
    "        self.OImage = cv2.cvtColor(cv2.resize(self.OOImage, (580, 580)), cv2.COLOR_BGR2RGB)\n",
    "        self.OutImage = PIL.ImageTk.PhotoImage(master = self.OutFrame, image = PIL.Image.fromarray(self.OImage))\n",
    "        self.OutLabel = Label(self.OutFrame, width = 580, height = 580, image = self.OutImage)\n",
    "        self.OutLabel.grid(row = 0, column = 0)\n",
    "        \n",
    "        self.InFrame.grid(padx = (0, 0), pady = (0, 0), row = 0, column = 0)\n",
    "        self.SchFrame.grid(padx = (0, 0), pady = (0, 375), row = 0, column = 1)\n",
    "        self.OutFrame.grid(padx = (0, 0), pady = (0, 0), row = 0, column = 2)\n",
    "        \n",
    "        self.cmessage = 'Created by Abyoso Hapsoro Nurhadi'\n",
    "        self.creator_text = StringVar()\n",
    "        self.creator_text.set(self.cmessage)\n",
    "        self.creator = Label(self.master,\n",
    "                             textvariable = self.creator_text,\n",
    "                             font = (('Cambria', '16')),\n",
    "                             relief = SUNKEN)\n",
    " \n",
    "        self.creator.grid(row = 1, column = 0, columnspan = 3, sticky = W + E)\n",
    "        \n",
    "    def menus(self, master):\n",
    "        menu = Menu(master)\n",
    "        master.config(menu = menu)\n",
    "        \n",
    "        fileMenu = Menu(menu, tearoff = 0)\n",
    "        menu.add_cascade(label = 'File', menu = fileMenu)\n",
    "        fileMenu.add_command(label = 'Exit', command = master.destroy)\n",
    "    \n",
    "        aboutMenu = Menu(menu, tearoff = 0)\n",
    "        menu.add_cascade(label = 'About', menu = aboutMenu)\n",
    "        aboutMenu.add_command(label = 'About', command = self.About)\n",
    "    \n",
    "    def About(self):\n",
    "        toplevel = Toplevel()\n",
    "        toplevel.title(Title + ' v%s: About'%(ver))\n",
    "        toplevel.iconbitmap(icon)\n",
    "        toplevel.geometry('500x200')\n",
    "        toplevel.resizable(width = False, height = False)\n",
    "        label = Label(toplevel,\n",
    "                      text = 'This program is made by Xyba, student of Mathematics UI 2016\\n\\n\\n\\n\\n2018 - Xyba Project',\n",
    "                      font = (('Cambria', '12')),\n",
    "                      height = 100,\n",
    "                      width = 100)\n",
    "        label.pack()\n",
    "        \n",
    "Title = 'Object Localizer'\n",
    "icon = 'X:\\\\School + Studies\\\\Xyba Project\\\\Xyba_Logo.ico' #'C:\\\\Users\\\\Xyba\\\\MiniNoire.ico'\n",
    "ver = '0.0.7'\n",
    "\n",
    "def main():\n",
    "    root = Tk()\n",
    "    Localizer(root, Title, icon, ver)\n",
    "    root.mainloop()\n",
    "\n",
    "if __name__ == '__main__':\n",
    "    main()"
   ]
  },
  {
   "cell_type": "code",
   "execution_count": null,
   "metadata": {},
   "outputs": [],
   "source": []
  },
  {
   "cell_type": "code",
   "execution_count": null,
   "metadata": {},
   "outputs": [],
   "source": []
  },
  {
   "cell_type": "code",
   "execution_count": 4,
   "metadata": {},
   "outputs": [],
   "source": [
    "import tkinter\n",
    "import cv2\n",
    "import PIL.Image, PIL.ImageTk\n",
    "\n",
    "# Create a window\n",
    "window = tkinter.Tk()\n",
    "window.title(\"OpenCV and Tkinter\")\n",
    "\n",
    "# Load an image using OpenCV\n",
    "cv_img = cv2.cvtColor(cv2.imread('dog.jpg'), cv2.COLOR_BGR2RGB)\n",
    "\n",
    "# Get the image dimensions (OpenCV stores image data as NumPy ndarray)\n",
    "height, width, no_channels = cv_img.shape\n",
    "\n",
    "# Create a canvas that can fit the above image\n",
    "canvas = tkinter.Canvas(window, width = width, height = height)\n",
    "canvas.pack()\n",
    "\n",
    "# Use PIL (Pillow) to convert the NumPy ndarray to a PhotoImage\n",
    "photo = PIL.ImageTk.PhotoImage(master = canvas, image = PIL.Image.fromarray(cv_img))\n",
    "\n",
    "# Add a PhotoImage to the Canvas\n",
    "canvas.create_image(0, 0, image=photo, anchor=tkinter.NW)\n",
    "\n",
    "# Run the window loop\n",
    "window.mainloop()"
   ]
  },
  {
   "cell_type": "code",
   "execution_count": 8,
   "metadata": {},
   "outputs": [
    {
     "ename": "RuntimeError",
     "evalue": "Too early to create image",
     "output_type": "error",
     "traceback": [
      "\u001b[1;31m---------------------------------------------------------------------------\u001b[0m",
      "\u001b[1;31mRuntimeError\u001b[0m                              Traceback (most recent call last)",
      "\u001b[1;32m<ipython-input-8-33f5b75a00e5>\u001b[0m in \u001b[0;36m<module>\u001b[1;34m()\u001b[0m\n\u001b[0;32m      2\u001b[0m \u001b[1;33m\u001b[0m\u001b[0m\n\u001b[0;32m      3\u001b[0m \u001b[0mimage\u001b[0m \u001b[1;33m=\u001b[0m \u001b[0mImage\u001b[0m\u001b[1;33m.\u001b[0m\u001b[0mopen\u001b[0m\u001b[1;33m(\u001b[0m\u001b[1;34m\"dog.jpg\"\u001b[0m\u001b[1;33m)\u001b[0m\u001b[1;33m\u001b[0m\u001b[0m\n\u001b[1;32m----> 4\u001b[1;33m \u001b[0mphoto\u001b[0m \u001b[1;33m=\u001b[0m \u001b[0mImageTk\u001b[0m\u001b[1;33m.\u001b[0m\u001b[0mPhotoImage\u001b[0m\u001b[1;33m(\u001b[0m\u001b[0mimage\u001b[0m\u001b[1;33m)\u001b[0m\u001b[1;33m\u001b[0m\u001b[0m\n\u001b[0m\u001b[0;32m      5\u001b[0m \u001b[1;33m\u001b[0m\u001b[0m\n\u001b[0;32m      6\u001b[0m \u001b[0mlabel\u001b[0m \u001b[1;33m=\u001b[0m \u001b[0mLabel\u001b[0m\u001b[1;33m(\u001b[0m\u001b[0mimage\u001b[0m\u001b[1;33m=\u001b[0m\u001b[0mphoto\u001b[0m\u001b[1;33m)\u001b[0m\u001b[1;33m\u001b[0m\u001b[0m\n",
      "\u001b[1;32mc:\\users\\xyba\\appdata\\local\\programs\\python\\python36-32\\lib\\site-packages\\PIL\\ImageTk.py\u001b[0m in \u001b[0;36m__init__\u001b[1;34m(self, image, size, **kw)\u001b[0m\n\u001b[0;32m    115\u001b[0m         \u001b[0mself\u001b[0m\u001b[1;33m.\u001b[0m\u001b[0m__mode\u001b[0m \u001b[1;33m=\u001b[0m \u001b[0mmode\u001b[0m\u001b[1;33m\u001b[0m\u001b[0m\n\u001b[0;32m    116\u001b[0m         \u001b[0mself\u001b[0m\u001b[1;33m.\u001b[0m\u001b[0m__size\u001b[0m \u001b[1;33m=\u001b[0m \u001b[0msize\u001b[0m\u001b[1;33m\u001b[0m\u001b[0m\n\u001b[1;32m--> 117\u001b[1;33m         \u001b[0mself\u001b[0m\u001b[1;33m.\u001b[0m\u001b[0m__photo\u001b[0m \u001b[1;33m=\u001b[0m \u001b[0mtkinter\u001b[0m\u001b[1;33m.\u001b[0m\u001b[0mPhotoImage\u001b[0m\u001b[1;33m(\u001b[0m\u001b[1;33m**\u001b[0m\u001b[0mkw\u001b[0m\u001b[1;33m)\u001b[0m\u001b[1;33m\u001b[0m\u001b[0m\n\u001b[0m\u001b[0;32m    118\u001b[0m         \u001b[0mself\u001b[0m\u001b[1;33m.\u001b[0m\u001b[0mtk\u001b[0m \u001b[1;33m=\u001b[0m \u001b[0mself\u001b[0m\u001b[1;33m.\u001b[0m\u001b[0m__photo\u001b[0m\u001b[1;33m.\u001b[0m\u001b[0mtk\u001b[0m\u001b[1;33m\u001b[0m\u001b[0m\n\u001b[0;32m    119\u001b[0m         \u001b[1;32mif\u001b[0m \u001b[0mimage\u001b[0m\u001b[1;33m:\u001b[0m\u001b[1;33m\u001b[0m\u001b[0m\n",
      "\u001b[1;32mc:\\users\\xyba\\appdata\\local\\programs\\python\\python36-32\\lib\\tkinter\\__init__.py\u001b[0m in \u001b[0;36m__init__\u001b[1;34m(self, name, cnf, master, **kw)\u001b[0m\n\u001b[0;32m   3540\u001b[0m         \u001b[0mValid\u001b[0m \u001b[0mresource\u001b[0m \u001b[0mnames\u001b[0m\u001b[1;33m:\u001b[0m \u001b[0mdata\u001b[0m\u001b[1;33m,\u001b[0m \u001b[0mformat\u001b[0m\u001b[1;33m,\u001b[0m \u001b[0mfile\u001b[0m\u001b[1;33m,\u001b[0m \u001b[0mgamma\u001b[0m\u001b[1;33m,\u001b[0m \u001b[0mheight\u001b[0m\u001b[1;33m,\u001b[0m \u001b[0mpalette\u001b[0m\u001b[1;33m,\u001b[0m\u001b[1;33m\u001b[0m\u001b[0m\n\u001b[0;32m   3541\u001b[0m         width.\"\"\"\n\u001b[1;32m-> 3542\u001b[1;33m         \u001b[0mImage\u001b[0m\u001b[1;33m.\u001b[0m\u001b[0m__init__\u001b[0m\u001b[1;33m(\u001b[0m\u001b[0mself\u001b[0m\u001b[1;33m,\u001b[0m \u001b[1;34m'photo'\u001b[0m\u001b[1;33m,\u001b[0m \u001b[0mname\u001b[0m\u001b[1;33m,\u001b[0m \u001b[0mcnf\u001b[0m\u001b[1;33m,\u001b[0m \u001b[0mmaster\u001b[0m\u001b[1;33m,\u001b[0m \u001b[1;33m**\u001b[0m\u001b[0mkw\u001b[0m\u001b[1;33m)\u001b[0m\u001b[1;33m\u001b[0m\u001b[0m\n\u001b[0m\u001b[0;32m   3543\u001b[0m     \u001b[1;32mdef\u001b[0m \u001b[0mblank\u001b[0m\u001b[1;33m(\u001b[0m\u001b[0mself\u001b[0m\u001b[1;33m)\u001b[0m\u001b[1;33m:\u001b[0m\u001b[1;33m\u001b[0m\u001b[0m\n\u001b[0;32m   3544\u001b[0m         \u001b[1;34m\"\"\"Display a transparent image.\"\"\"\u001b[0m\u001b[1;33m\u001b[0m\u001b[0m\n",
      "\u001b[1;32mc:\\users\\xyba\\appdata\\local\\programs\\python\\python36-32\\lib\\tkinter\\__init__.py\u001b[0m in \u001b[0;36m__init__\u001b[1;34m(self, imgtype, name, cnf, master, **kw)\u001b[0m\n\u001b[0;32m   3484\u001b[0m             \u001b[0mmaster\u001b[0m \u001b[1;33m=\u001b[0m \u001b[0m_default_root\u001b[0m\u001b[1;33m\u001b[0m\u001b[0m\n\u001b[0;32m   3485\u001b[0m             \u001b[1;32mif\u001b[0m \u001b[1;32mnot\u001b[0m \u001b[0mmaster\u001b[0m\u001b[1;33m:\u001b[0m\u001b[1;33m\u001b[0m\u001b[0m\n\u001b[1;32m-> 3486\u001b[1;33m                 \u001b[1;32mraise\u001b[0m \u001b[0mRuntimeError\u001b[0m\u001b[1;33m(\u001b[0m\u001b[1;34m'Too early to create image'\u001b[0m\u001b[1;33m)\u001b[0m\u001b[1;33m\u001b[0m\u001b[0m\n\u001b[0m\u001b[0;32m   3487\u001b[0m         \u001b[0mself\u001b[0m\u001b[1;33m.\u001b[0m\u001b[0mtk\u001b[0m \u001b[1;33m=\u001b[0m \u001b[0mgetattr\u001b[0m\u001b[1;33m(\u001b[0m\u001b[0mmaster\u001b[0m\u001b[1;33m,\u001b[0m \u001b[1;34m'tk'\u001b[0m\u001b[1;33m,\u001b[0m \u001b[0mmaster\u001b[0m\u001b[1;33m)\u001b[0m\u001b[1;33m\u001b[0m\u001b[0m\n\u001b[0;32m   3488\u001b[0m         \u001b[1;32mif\u001b[0m \u001b[1;32mnot\u001b[0m \u001b[0mname\u001b[0m\u001b[1;33m:\u001b[0m\u001b[1;33m\u001b[0m\u001b[0m\n",
      "\u001b[1;31mRuntimeError\u001b[0m: Too early to create image"
     ]
    }
   ],
   "source": [
    "from PIL import Image, ImageTk\n",
    "\n",
    "image = Image.open(\"dog.jpg\")\n",
    "photo = ImageTk.PhotoImage(image)\n",
    "\n",
    "label = Label(image=photo)\n",
    "label.image = photo \n",
    "label.pack()"
   ]
  },
  {
   "cell_type": "code",
   "execution_count": null,
   "metadata": {},
   "outputs": [],
   "source": []
  }
 ],
 "metadata": {
  "kernelspec": {
   "display_name": "Python 3",
   "language": "python",
   "name": "python3"
  },
  "language_info": {
   "codemirror_mode": {
    "name": "ipython",
    "version": 3
   },
   "file_extension": ".py",
   "mimetype": "text/x-python",
   "name": "python",
   "nbconvert_exporter": "python",
   "pygments_lexer": "ipython3",
   "version": "3.6.5"
  }
 },
 "nbformat": 4,
 "nbformat_minor": 2
}
