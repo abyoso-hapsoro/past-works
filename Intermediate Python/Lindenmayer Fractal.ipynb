{
  "nbformat": 4,
  "nbformat_minor": 0,
  "metadata": {
    "kernelspec": {
      "display_name": "Python 3",
      "language": "python",
      "name": "python3"
    },
    "language_info": {
      "codemirror_mode": {
        "name": "ipython",
        "version": 3
      },
      "file_extension": ".py",
      "mimetype": "text/x-python",
      "name": "python",
      "nbconvert_exporter": "python",
      "pygments_lexer": "ipython3",
      "version": "3.6.4"
    },
    "colab": {
      "provenance": []
    }
  },
  "cells": [
    {
      "cell_type": "code",
      "metadata": {
        "deletable": false,
        "editable": false,
        "id": "AchuC8lF0JX-"
      },
      "source": [
        "__author__ = 'Abyoso Hapsoro Nurhadi'"
      ],
      "execution_count": 1,
      "outputs": []
    },
    {
      "cell_type": "markdown",
      "metadata": {
        "id": "8ihRgMbB0JYF"
      },
      "source": [
        "# Pengantar\n",
        "Notebook berikut sudah dites pada interpreter lokal dan online (menggunakan [colab.research.google.com](https://colab.research.google.com)) yang tersedia pada link berikut: <br>\n",
        "https://colab.research.google.com/drive/1ovmAEtNX58zjZo3CbwBj2x6bgU8drhKU"
      ]
    },
    {
      "cell_type": "markdown",
      "metadata": {
        "id": "cJW881GP0JYG"
      },
      "source": [
        "# Definisi\n",
        "\n",
        "$G = \\{V_T, V_N, Q, S\\}$ adalah sebuah tata bahasa Context-Free Lindenmayer dengan:\n",
        "\n",
        "$\n",
        "\\begin{align}\n",
        "    V_T &= \\{d, +, -\\} \\\\\n",
        "    V_N &= \\{S, D\\} \\\\\n",
        "    Q &= \\left\\{ \\begin{array}{lll}\n",
        "        1. S \\to D+D+D+D \\\\\n",
        "        2. D \\to D+D-D-DD+D+D-D|d \\\\\n",
        "        3. + \\to + \\\\\n",
        "        4. - \\to -\n",
        "    \\end{array} \\right\\}\n",
        "\\end{align}\n",
        "$"
      ]
    },
    {
      "cell_type": "markdown",
      "metadata": {
        "id": "hHbYdeEA0JYI"
      },
      "source": [
        "# Masalah\n",
        "Akan dibuat program untuk generate Fraktal Lindenmayer lalu menggambarkannya."
      ]
    },
    {
      "cell_type": "markdown",
      "metadata": {
        "id": "TP6Rwchi0JYJ"
      },
      "source": [
        "# Jawaban"
      ]
    },
    {
      "cell_type": "code",
      "metadata": {
        "id": "z1eYKFv30hzo",
        "outputId": "e661fe34-0568-4bfb-e2c8-2df589966233",
        "colab": {
          "base_uri": "https://localhost:8080/"
        }
      },
      "source": [
        "!pip install -U tqdm\n",
        "!pip install -U matplotlib"
      ],
      "execution_count": 2,
      "outputs": [
        {
          "output_type": "stream",
          "name": "stdout",
          "text": [
            "Looking in indexes: https://pypi.org/simple, https://us-python.pkg.dev/colab-wheels/public/simple/\n",
            "Requirement already satisfied: tqdm in /usr/local/lib/python3.10/dist-packages (4.65.0)\n",
            "Looking in indexes: https://pypi.org/simple, https://us-python.pkg.dev/colab-wheels/public/simple/\n",
            "Requirement already satisfied: matplotlib in /usr/local/lib/python3.10/dist-packages (3.7.1)\n",
            "Requirement already satisfied: contourpy>=1.0.1 in /usr/local/lib/python3.10/dist-packages (from matplotlib) (1.0.7)\n",
            "Requirement already satisfied: cycler>=0.10 in /usr/local/lib/python3.10/dist-packages (from matplotlib) (0.11.0)\n",
            "Requirement already satisfied: fonttools>=4.22.0 in /usr/local/lib/python3.10/dist-packages (from matplotlib) (4.39.3)\n",
            "Requirement already satisfied: kiwisolver>=1.0.1 in /usr/local/lib/python3.10/dist-packages (from matplotlib) (1.4.4)\n",
            "Requirement already satisfied: numpy>=1.20 in /usr/local/lib/python3.10/dist-packages (from matplotlib) (1.22.4)\n",
            "Requirement already satisfied: packaging>=20.0 in /usr/local/lib/python3.10/dist-packages (from matplotlib) (23.1)\n",
            "Requirement already satisfied: pillow>=6.2.0 in /usr/local/lib/python3.10/dist-packages (from matplotlib) (8.4.0)\n",
            "Requirement already satisfied: pyparsing>=2.3.1 in /usr/local/lib/python3.10/dist-packages (from matplotlib) (3.0.9)\n",
            "Requirement already satisfied: python-dateutil>=2.7 in /usr/local/lib/python3.10/dist-packages (from matplotlib) (2.8.2)\n",
            "Requirement already satisfied: six>=1.5 in /usr/local/lib/python3.10/dist-packages (from python-dateutil>=2.7->matplotlib) (1.16.0)\n"
          ]
        }
      ]
    },
    {
      "cell_type": "code",
      "metadata": {
        "id": "JUar8Gov0JYL",
        "outputId": "56cd5aba-6921-437f-b1b9-57c8880c0266",
        "colab": {
          "base_uri": "https://localhost:8080/"
        }
      },
      "source": [
        "import pkg_resources\n",
        "\n",
        "print('tqdm\\t\\t:', pkg_resources.get_distribution('tqdm').version)\n",
        "print('matplotlib\\t:', pkg_resources.get_distribution('matplotlib').version)"
      ],
      "execution_count": 3,
      "outputs": [
        {
          "output_type": "stream",
          "name": "stdout",
          "text": [
            "tqdm\t\t: 4.65.0\n",
            "matplotlib\t: 3.7.1\n"
          ]
        }
      ]
    },
    {
      "cell_type": "code",
      "metadata": {
        "id": "NYCuTi2b0JYR"
      },
      "source": [
        "import os\n",
        "from math import pi, sin, cos\n",
        "from tqdm import tqdm\n",
        "\n",
        "import matplotlib.pyplot as plt\n",
        "plt.style.use('bmh')\n",
        "\n",
        "def _generate_transform(sequence, transformations, iterations, show_progress):\n",
        "    iterator = range(iterations)\n",
        "    if show_progress:\n",
        "        iterator = tqdm(iterator, desc = 'transformation ', bar_format = '{l_bar}{bar:25}{r_bar}{bar:-10b}')\n",
        "\n",
        "    for _ in iterator:\n",
        "        sequence = ''.join(transformations.get(el, el) for el in sequence)\n",
        "    return sequence\n",
        "\n",
        "def _branching(sequence, readjust_factor, print_sequence, show_progress):\n",
        "    saved_states = []\n",
        "    state = (0, 0, 90)\n",
        "    yield (0, 0)\n",
        "\n",
        "    iterator = sequence\n",
        "    if show_progress:\n",
        "        iterator = tqdm(iterator, desc = 'branching      ', bar_format = '{l_bar}{bar:25}{r_bar}{bar:-10b}')\n",
        "\n",
        "    for command in iterator:\n",
        "        x, y, angle = state\n",
        "\n",
        "        if command.lower() == 'd':\n",
        "            state = (x - cos(angle * (pi/180)),\n",
        "                     y + sin(angle * (pi/180)),\n",
        "                     angle)\n",
        "\n",
        "            if command.islower():\n",
        "                yield (float('nan'), float('nan'))\n",
        "\n",
        "            yield (state[0], state[1])\n",
        "\n",
        "        elif command == '+':\n",
        "            state = (x, y, angle + readjust_factor)\n",
        "\n",
        "        elif command == '-':\n",
        "            state = (x, y, angle - readjust_factor)\n",
        "\n",
        "    if print_sequence:\n",
        "        print(sequence)\n",
        "\n",
        "class LSystem():\n",
        "    def __init__(self, axiom, rules):\n",
        "        assert type(axiom) == str, 'axiom must be a string'\n",
        "        assert type(rules) == dict, 'rules must be a dictionary'\n",
        "\n",
        "        self.axiom          = axiom\n",
        "        self.rules          = rules\n",
        "        self.depth          = 0\n",
        "        self.axiom_backup   = axiom\n",
        "        self.rules_backup   = rules\n",
        "\n",
        "    def execute(self, iterations, angle = 90, print_sequence = False, system = 'Fractal',\n",
        "                figsize = (9, 9), plot_color = 'blue', bare_plot = True, mark_origin = False,\n",
        "                marker_color = 'red', showfig = True, savefig = False, show_progress = False):\n",
        "        assert type(iterations) in [int, float], 'iterations must be a number'\n",
        "        assert iterations  >= 0, 'iterations must be a non-negative number'\n",
        "        assert iterations  == int(iterations), 'iterations must be an integer'\n",
        "\n",
        "        self.axiom          = _generate_transform(self.axiom, self.rules, iterations, show_progress)\n",
        "        self.depth         += iterations\n",
        "        coordinates         = _branching(self.axiom, angle, print_sequence, show_progress)\n",
        "        self._plot(coordinates, system, figsize, plot_color, bare_plot, mark_origin, marker_color, showfig, savefig)\n",
        "\n",
        "    def reset(self, axiom = None, rules = None):\n",
        "        if axiom == None:\n",
        "            axiom = self.axiom_backup\n",
        "        if rules == None:\n",
        "            rules = self.rules_backup\n",
        "        self.__init__(axiom, rules)\n",
        "\n",
        "    def _plot(self, coordinates, system, figsize, plot_color, bare_plot, mark_origin, marker_color, showfig, savefig):\n",
        "        X, Y = zip(*coordinates)\n",
        "\n",
        "        fig, ax = plt.subplots(1, 1, figsize = figsize)\n",
        "\n",
        "        if bare_plot:\n",
        "            ax.axis('off')\n",
        "\n",
        "        ax.set_aspect(aspect = 'equal', adjustable = 'datalim')\n",
        "        ax.plot(X, Y, linestyle = '-', color = plot_color)\n",
        "\n",
        "        if mark_origin:\n",
        "            ax.plot([0], [0], marker = 'o', color = marker_color)\n",
        "\n",
        "        plt.title('Lindenmayer System with depth {}'.format(self.depth).replace('System', system))\n",
        "\n",
        "        if showfig:\n",
        "            fig = plt.gcf()\n",
        "            plt.show()\n",
        "\n",
        "        if savefig:\n",
        "            plt.draw()\n",
        "            filename = input('input filename w/ extension: ')\n",
        "            if showfig:\n",
        "                fig.savefig(filename, dpi = 100, bbox_inches = 'tight')\n",
        "            else:\n",
        "                plt.savefig(filename, dpi = 100, bbox_inches = 'tight')\n",
        "            print('saved at', os.getcwd().replace('\\\\', '/') + '/' + filename)\n",
        "\n",
        "        plt.close()"
      ],
      "execution_count": 4,
      "outputs": []
    },
    {
      "cell_type": "code",
      "metadata": {
        "scrolled": false,
        "id": "gL-nYZmV0JYV",
        "outputId": "1d0829d3-3652-4437-d149-c553edf4aa63",
        "colab": {
          "base_uri": "https://localhost:8080/",
          "height": 635
        }
      },
      "source": [
        "axiom       = 'D+D+D+D'\n",
        "rules       = {'D': 'D+D-D-DD+D+D-D'}\n",
        "Lindenmayer = LSystem(axiom, rules)\n",
        "Lindenmayer.execute(2, show_progress = True, figsize = (7, 7), plot_color = (44/255, 176/255, 55/155), mark_origin = True)"
      ],
      "execution_count": 5,
      "outputs": [
        {
          "output_type": "stream",
          "name": "stderr",
          "text": [
            "transformation : 100%|█████████████████████████| 2/2 [00:00<00:00, 2384.48it/s]\n",
            "branching      : 100%|█████████████████████████| 475/475 [00:00<00:00, 414715.74it/s]\n"
          ]
        },
        {
          "output_type": "display_data",
          "data": {
            "text/plain": [
              "<Figure size 700x700 with 1 Axes>"
            ],
            "image/png": "[encoded data removed]"
          },
          "metadata": {}
        }
      ]
    }
  ]
}