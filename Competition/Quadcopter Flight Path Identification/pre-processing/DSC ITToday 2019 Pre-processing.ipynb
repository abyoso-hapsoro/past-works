{
  "cells": [
    {
      "attachments": {},
      "cell_type": "markdown",
      "metadata": {
        "id": "6-F-zWmeoc6o"
      },
      "source": [
        "# Initialize Kaggle API"
      ]
    },
    {
      "cell_type": "code",
      "execution_count": null,
      "metadata": {
        "id": "LpJn17bNoV0n"
      },
      "outputs": [],
      "source": [
        "from google.colab import files\n",
        "files.upload()"
      ]
    },
    {
      "cell_type": "code",
      "execution_count": null,
      "metadata": {
        "id": "rI5M64qHpSGG"
      },
      "outputs": [],
      "source": [
        "!pip install -q kaggle"
      ]
    },
    {
      "cell_type": "code",
      "execution_count": null,
      "metadata": {
        "id": "dZcxBmmrpfos"
      },
      "outputs": [],
      "source": [
        "!mkdir -p ~/.kaggle\n",
        "!mv kaggle.json ~/.kaggle/"
      ]
    },
    {
      "cell_type": "code",
      "execution_count": null,
      "metadata": {
        "colab": {
          "base_uri": "https://localhost:8080/",
          "height": 408
        },
        "id": "xR0o60fOphbN",
        "outputId": "01f8281b-2325-4f84-afd0-e56fa57830c6"
      },
      "outputs": [
        {
          "name": "stdout",
          "output_type": "stream",
          "text": [
            "Warning: Your Kaggle API key is readable by other users on this system! To fix this, you can run 'chmod 600 /root/.kaggle/kaggle.json'\n",
            "ref                                                         title                                                size  lastUpdated          downloadCount  \n",
            "----------------------------------------------------------  --------------------------------------------------  -----  -------------------  -------------  \n",
            "AnalyzeBoston/crimes-in-boston                              Crimes in Boston                                     10MB  2018-09-04 17:56:03           9368  \n",
            "matheusfreitag/gas-prices-in-brazil                         Gas Prices in Brazil                                  3MB  2019-07-12 16:23:52           5153  \n",
            "jealousleopard/goodreadsbooks                               Goodreads-books                                     632KB  2019-06-14 16:35:05           8855  \n",
            "wkirgsn/electric-motor-temperature                          Electric Motor Temperature                           47MB  2019-06-19 11:12:41           3346  \n",
            "jolasa/waves-measuring-buoys-data-mooloolaba                Waves Measuring Buoys Data                          599KB  2019-07-07 16:59:44            995  \n",
            "sudalairajkumar/chennai-water-management                    Chennai Water Management                             75KB  2019-06-19 03:42:44           6156  \n",
            "doit-intl/autotel-shared-car-locations                      Shared Cars Locations                                78MB  2019-01-10 13:06:00           1033  \n",
            "eliasdabbas/search-engine-results-flights-tickets-keywords  Search Engine Results - Flights & Tickets Keywords   24MB  2019-08-15 13:12:18           1982  \n",
            "r3w0p4/recorded-crime-data-at-police-force-area-level       Recorded Crime Data at the Police Force Area Level  300KB  2019-06-21 15:16:46           1782  \n",
            "new-york-city/new-york-city-current-job-postings            New York City Current Job Postings                    3MB  2019-08-11 22:05:11           7280  \n",
            "r3w0p4/bournemouth-venues                                   Venues in Bournemouth                                 3KB  2019-07-08 14:26:48            643  \n",
            "Madgrades/uw-madison-courses                                UW Madison Courses and Grades 2006-2017              90MB  2018-05-15 18:58:25           1261  \n",
            "datafiniti/womens-shoes-prices                              Women's Shoe Prices                                  12MB  2019-06-24 22:50:14          10528  \n",
            "datafiniti/pizza-restaurants-and-the-pizza-they-sell        Pizza Restaurants and the Pizza They Sell           850KB  2019-05-30 00:21:21           5209  \n",
            "citylines/city-lines                                        Transit systems of world                              3MB  2019-03-25 16:53:05           1868  \n",
            "citizen-ds-ghana/health-facilities-gh                       Ghana Health Facilities                              84KB  2018-09-03 01:19:24            846  \n",
            "inIT-OWL/vega-shrinkwrapper-runtofailure-data               Vega shrink-wrapper component degradation           408KB  2018-11-12 13:03:43            258  \n",
            "university-of-edinburgh/peace-agreements-dataset            Peace Agreements Dataset                              1MB  2018-03-05 16:39:50            610  \n",
            "lakshyaag/india-trade-data                                  India - Trade Data                                    1MB  2019-08-16 16:13:58            116  \n",
            "rtatman/list-of-pypi-packages                               List of PyPI Packages                                 2MB  2019-08-18 00:39:41            335  \n"
          ]
        }
      ],
      "source": [
        "!kaggle datasets list"
      ]
    },
    {
      "cell_type": "code",
      "execution_count": null,
      "metadata": {
        "colab": {
          "base_uri": "https://localhost:8080/",
          "height": 187
        },
        "id": "7xmUcA-dpi7A",
        "outputId": "ecd66a57-5233-4455-d6ec-f9e5ecdc3990"
      },
      "outputs": [
        {
          "name": "stdout",
          "output_type": "stream",
          "text": [
            "Warning: Your Kaggle API key is readable by other users on this system! To fix this, you can run 'chmod 600 /root/.kaggle/kaggle.json'\n",
            "Downloading description.xlsx to /content\n",
            "  0% 0.00/11.0k [00:00<?, ?B/s]\n",
            "100% 11.0k/11.0k [00:00<00:00, 19.8MB/s]\n",
            "Downloading QuadData.csv.zip to /content\n",
            "  0% 0.00/1.86M [00:00<?, ?B/s]\n",
            "100% 1.86M/1.86M [00:00<00:00, 61.6MB/s]\n",
            "Downloading sampleSubmission.csv to /content\n",
            "  0% 0.00/61.7k [00:00<?, ?B/s]\n",
            "100% 61.7k/61.7k [00:00<00:00, 50.7MB/s]\n"
          ]
        }
      ],
      "source": [
        "!kaggle competitions download -c ittodaydsc2019"
      ]
    },
    {
      "cell_type": "code",
      "execution_count": null,
      "metadata": {
        "colab": {
          "base_uri": "https://localhost:8080/",
          "height": 51
        },
        "id": "vLgyUABjpopQ",
        "outputId": "59dab379-d818-41d2-95ac-8d9deb89d80e"
      },
      "outputs": [
        {
          "name": "stdout",
          "output_type": "stream",
          "text": [
            "Archive:  QuadData.csv.zip\n",
            "  inflating: QuadData.csv            \n"
          ]
        }
      ],
      "source": [
        "!unzip QuadData.csv.zip\n",
        "!rm QuadData.csv.zip"
      ]
    },
    {
      "attachments": {},
      "cell_type": "markdown",
      "metadata": {
        "id": "lw6MmH9TpsEj"
      },
      "source": [
        "# Mount Drive"
      ]
    },
    {
      "cell_type": "code",
      "execution_count": null,
      "metadata": {
        "colab": {
          "base_uri": "https://localhost:8080/",
          "height": 122
        },
        "id": "NFuhCOm9pqVd",
        "outputId": "37b3d35b-56e0-497f-deb2-62520dcbb799"
      },
      "outputs": [],
      "source": [
        "from google.colab import drive\n",
        "drive.mount('/content/drive')"
      ]
    },
    {
      "attachments": {},
      "cell_type": "markdown",
      "metadata": {
        "id": "aDnC0t6Tp82G"
      },
      "source": [
        "# Submission Example"
      ]
    },
    {
      "cell_type": "code",
      "execution_count": null,
      "metadata": {
        "colab": {
          "base_uri": "https://localhost:8080/",
          "height": 359
        },
        "id": "D0QDDrifpu3S",
        "outputId": "a300535b-6427-4ea6-b0c3-97e3f5ccea98"
      },
      "outputs": [
        {
          "data": {
            "text/html": [
              "<div>\n",
              "<style scoped>\n",
              "    .dataframe tbody tr th:only-of-type {\n",
              "        vertical-align: middle;\n",
              "    }\n",
              "\n",
              "    .dataframe tbody tr th {\n",
              "        vertical-align: top;\n",
              "    }\n",
              "\n",
              "    .dataframe thead th {\n",
              "        text-align: right;\n",
              "    }\n",
              "</style>\n",
              "<table border=\"1\" class=\"dataframe\">\n",
              "  <thead>\n",
              "    <tr style=\"text-align: right;\">\n",
              "      <th></th>\n",
              "      <th>id</th>\n",
              "      <th>Lng</th>\n",
              "      <th>Lat</th>\n",
              "    </tr>\n",
              "  </thead>\n",
              "  <tbody>\n",
              "    <tr>\n",
              "      <th>0</th>\n",
              "      <td>516</td>\n",
              "      <td>106.733964</td>\n",
              "      <td>-6.557158</td>\n",
              "    </tr>\n",
              "    <tr>\n",
              "      <th>1</th>\n",
              "      <td>517</td>\n",
              "      <td>106.733964</td>\n",
              "      <td>-6.557158</td>\n",
              "    </tr>\n",
              "    <tr>\n",
              "      <th>2</th>\n",
              "      <td>518</td>\n",
              "      <td>106.733964</td>\n",
              "      <td>-6.557158</td>\n",
              "    </tr>\n",
              "    <tr>\n",
              "      <th>3</th>\n",
              "      <td>519</td>\n",
              "      <td>106.733964</td>\n",
              "      <td>-6.557158</td>\n",
              "    </tr>\n",
              "    <tr>\n",
              "      <th>4</th>\n",
              "      <td>520</td>\n",
              "      <td>106.733964</td>\n",
              "      <td>-6.557158</td>\n",
              "    </tr>\n",
              "    <tr>\n",
              "      <th>5</th>\n",
              "      <td>521</td>\n",
              "      <td>106.733964</td>\n",
              "      <td>-6.557158</td>\n",
              "    </tr>\n",
              "    <tr>\n",
              "      <th>6</th>\n",
              "      <td>522</td>\n",
              "      <td>106.733964</td>\n",
              "      <td>-6.557158</td>\n",
              "    </tr>\n",
              "    <tr>\n",
              "      <th>7</th>\n",
              "      <td>523</td>\n",
              "      <td>106.733964</td>\n",
              "      <td>-6.557158</td>\n",
              "    </tr>\n",
              "    <tr>\n",
              "      <th>8</th>\n",
              "      <td>524</td>\n",
              "      <td>106.733964</td>\n",
              "      <td>-6.557158</td>\n",
              "    </tr>\n",
              "    <tr>\n",
              "      <th>9</th>\n",
              "      <td>525</td>\n",
              "      <td>106.733964</td>\n",
              "      <td>-6.557158</td>\n",
              "    </tr>\n",
              "  </tbody>\n",
              "</table>\n",
              "</div>"
            ],
            "text/plain": [
              "    id         Lng       Lat\n",
              "0  516  106.733964 -6.557158\n",
              "1  517  106.733964 -6.557158\n",
              "2  518  106.733964 -6.557158\n",
              "3  519  106.733964 -6.557158\n",
              "4  520  106.733964 -6.557158\n",
              "5  521  106.733964 -6.557158\n",
              "6  522  106.733964 -6.557158\n",
              "7  523  106.733964 -6.557158\n",
              "8  524  106.733964 -6.557158\n",
              "9  525  106.733964 -6.557158"
            ]
          },
          "execution_count": 8,
          "metadata": {
            "tags": []
          },
          "output_type": "execute_result"
        }
      ],
      "source": [
        "import pandas as pd\n",
        "example = pd.read_csv('sampleSubmission.csv')\n",
        "example.head(10)"
      ]
    },
    {
      "attachments": {},
      "cell_type": "markdown",
      "metadata": {
        "id": "wbaIYCG7p_gQ"
      },
      "source": [
        "# Files Description\n",
        "Hazim sedang mengerjakan project kuliah yaitu merakit dua buah quadcopter. Quadcopter adalah helikopter multirotor yang diangkat dan didorong oleh empat rotor (baling-baling). Quadcopter yang dirakit Hazim diatur untuk terbang dengan dua tipe rute lintasan secara otomatis (autopilot) serta dapat dipantau melalui remote control ataupun komputer. Pada quadcopter tersebut terdapat beberapa sensor, diantaranya adalah global positioning system (GPS), global position accuracy (GPA), inertial measurement unit (IMU), dan magnetometer (Kompas). Setelah tahap perakitan selesai, Hazim akan melakukan uji coba penerbangan pada quadcopter rakitan nya untuk diambil data nya. Melalui kedua quadcopter tersebut, dilakukan uji coba terbang dengan mengikuti koordinat longitude dan latitude pada GPS quadcopter sesuai dengan rute yang telah diatur sebelumnya. Tugas anda yaitu prediksi data koordinat (longitude,latitude) deret waktu dari posisi ke-X hingga posisi terakhir untuk setiap percobaan.\n",
        "\n",
        "Hasil akan dievaluasi menggunakan metric Mean Haversine Distance\n",
        "\n",
        "QuadData.csv Data rekam hasil percobaan, untuk data dengan nilai koordinat (Longitude,Latitude) bernilai NaN akan menjadi data test yang harus diprediksi\n",
        "description.xlsx Deskripsi dari setiap fitur pada dataset\n",
        "sampleSubmission.csv Contoh submisi yang valid, file berisi nilai prediksi dari dataset QuadData yang memiliki nilai koordinat NaN"
      ]
    },
    {
      "attachments": {},
      "cell_type": "markdown",
      "metadata": {
        "id": "Pq5jCbg3qFg9"
      },
      "source": [
        "**Comments**\n",
        "* From 8791 data points in QuadData.csv, 6440 are samples for training and 2351 are samples for testing. So we need to split it.\n",
        "* description.xlsx is hard to read literally apparently.\n"
      ]
    },
    {
      "attachments": {},
      "cell_type": "markdown",
      "metadata": {
        "id": "sOY93SPKqHrf"
      },
      "source": [
        "# Read the Data"
      ]
    },
    {
      "cell_type": "code",
      "execution_count": null,
      "metadata": {
        "colab": {
          "base_uri": "https://localhost:8080/",
          "height": 34
        },
        "id": "d5CIL7Wpp-xu",
        "outputId": "d14f2247-7f18-4ec8-9bca-a0807e090674"
      },
      "outputs": [
        {
          "data": {
            "text/plain": [
              "93"
            ]
          },
          "execution_count": 9,
          "metadata": {
            "tags": []
          },
          "output_type": "execute_result"
        }
      ],
      "source": [
        "from pandas_profiling import ProfileReport as Report\n",
        "Data = pd.read_csv('QuadData.csv')\n",
        "len(Data.columns)"
      ]
    },
    {
      "attachments": {},
      "cell_type": "markdown",
      "metadata": {
        "id": "9zcNHF3mqMdk"
      },
      "source": [
        "## Step 1: Drop constant and exact columns"
      ]
    },
    {
      "cell_type": "code",
      "execution_count": null,
      "metadata": {
        "id": "tL73ttk4repq"
      },
      "outputs": [],
      "source": [
        "immediate_drop = ['DSAlt', 'GWk', 'MOfsX', 'MOfsX_2', 'MOfsY', 'MOfsY_2', 'MOfsZ', 'MOfsZ_2', 'SAlt', 'SMS', 'VV']\n",
        "Data = Data.drop(immediate_drop, axis = 1)\n",
        "len(Data.columns)\n",
        "Data.to_csv('QuadData_01.csv', index = False)\n",
        "!cp QuadData_01.csv 'drive/My Drive/ITToday'"
      ]
    },
    {
      "attachments": {},
      "cell_type": "markdown",
      "metadata": {
        "id": "fIksNY1uqwO9"
      },
      "source": [
        "## Step 2: Drop highly correlated columns\n",
        "with $\\rho>0.9$.\n"
      ]
    },
    {
      "cell_type": "code",
      "execution_count": null,
      "metadata": {
        "id": "daNC_Xe3rZmN"
      },
      "outputs": [],
      "source": [
        "highcorr_drop = ['AccX_2', 'AccY_2', 'Alt', 'BAlt', 'C4', 'GyrX_2', 'GyrY_2', 'GyrZ_2',\n",
        "                 'HDop', 'TimeUS_ATT', 'TimeUS_CTUN', 'TimeUS_GPA', 'TimeUS_GPS',\n",
        "                 'TimeUS_IMU', 'TimeUS_IMU2', 'TimeUS_MAG', 'TimeUS_MAG2', 'TimeUS_RCOU',\n",
        "                 'MagX_2', 'MagY_2', 'OfsX_2', 'OfsY_2', 'OfsZ_2', 'ThO']\n",
        "highcorr_drop += ['LineNo_CTUN', 'LineNo_GPA', 'LineNo_GPS', 'LineNo_IMU', 'LineNo_IMU2',\n",
        "                  'LineNo_MAG', 'LineNo_MAG2', 'LineNo_RCOU', 'OfsX', 'OfsY', 'OfsZ']\n",
        "Data = Data.drop(highcorr_drop, axis = 1)\n",
        "len(Data.columns)\n",
        "Data.to_csv('QuadData_02.csv', index = False)\n",
        "!cp QuadData_02.csv 'drive/My Drive/ITToday'"
      ]
    },
    {
      "attachments": {},
      "cell_type": "markdown",
      "metadata": {
        "id": "WCaXI8SGq6Rr"
      },
      "source": [
        "## Step 3: Split Train and Test Data"
      ]
    },
    {
      "cell_type": "code",
      "execution_count": null,
      "metadata": {
        "colab": {
          "base_uri": "https://localhost:8080/",
          "height": 34
        },
        "id": "UOcD6gSdq5oY",
        "outputId": "a209ecf5-db05-4b05-e60d-753fd987342c"
      },
      "outputs": [
        {
          "data": {
            "text/plain": [
              "2351"
            ]
          },
          "execution_count": 12,
          "metadata": {
            "tags": []
          },
          "output_type": "execute_result"
        }
      ],
      "source": [
        "to_drop = Data[Data.isnull().any(axis = 1)].index\n",
        "to_drop = list(to_drop)\n",
        "len(to_drop)"
      ]
    },
    {
      "cell_type": "code",
      "execution_count": null,
      "metadata": {
        "colab": {
          "base_uri": "https://localhost:8080/",
          "height": 51
        },
        "id": "_YzoS1rurJM3",
        "outputId": "e195a318-374d-40dc-83cd-7c748949bf80"
      },
      "outputs": [
        {
          "name": "stdout",
          "output_type": "stream",
          "text": [
            "train shape: (6440, 47)\n",
            "test shape : (2351, 47)\n"
          ]
        }
      ],
      "source": [
        "Data_test  = Data.iloc[to_drop].reset_index().drop('index', axis = 1)\n",
        "Data_train = Data.drop(to_drop, axis = 0).reset_index().drop('index', axis = 1)\n",
        "\n",
        "print('train shape:', Data_train.shape)\n",
        "print('test shape :', Data_test.shape)"
      ]
    },
    {
      "attachments": {},
      "cell_type": "markdown",
      "metadata": {
        "id": "8MckqPBPsKcG"
      },
      "source": [
        "## Step 4: Outlier Removal\n",
        "From analysis, we find some outliers that fit these conditions:\n",
        "* If ExpID = 3 and LineNo_ATT <= 9158 or >= 14968\n",
        "* If ExpID = 4 and LineNo_ATT <= 2076\n",
        "* If ExpID = 10 and LineNo_ATT <= 8857"
      ]
    },
    {
      "cell_type": "code",
      "execution_count": null,
      "metadata": {
        "colab": {
          "base_uri": "https://localhost:8080/",
          "height": 34
        },
        "id": "mbxw5c_9rPXa",
        "outputId": "5be8053b-1c19-4c06-fffd-ffa8a2d64a0b"
      },
      "outputs": [
        {
          "name": "stdout",
          "output_type": "stream",
          "text": [
            "number of outlier samples: 123\n"
          ]
        }
      ],
      "source": [
        "outliers_index3  = (Data_train['ExpID'] == 3 ) & ((Data_train['LineNo_ATT'] <= 9158) | (Data_train['LineNo_ATT'] >= 14968))\n",
        "outliers_index4  = (Data_train['ExpID'] == 4 ) &  (Data_train['LineNo_ATT'] <= 2076)\n",
        "outliers_index10 = (Data_train['ExpID'] == 10) &  (Data_train['LineNo_ATT'] <= 8857)\n",
        "\n",
        "print('number of outlier samples:', sum([len(Data_train[outlier_idx]) for outlier_idx in [outliers_index3, outliers_index4, outliers_index10]]))"
      ]
    },
    {
      "cell_type": "code",
      "execution_count": null,
      "metadata": {
        "colab": {
          "base_uri": "https://localhost:8080/",
          "height": 34
        },
        "id": "gSPkk64ev_LR",
        "outputId": "fdd7f703-4b65-46ca-b649-b4c44a5b6f92"
      },
      "outputs": [
        {
          "name": "stdout",
          "output_type": "stream",
          "text": [
            "new train shape: (6317, 47)\n"
          ]
        }
      ],
      "source": [
        "outliers_index = outliers_index3 | outliers_index4 | outliers_index10\n",
        "Data_Train = Data_train[~outliers_index].reset_index().drop('index', axis = 1)\n",
        "print('new train shape:', Data_Train.shape)"
      ]
    },
    {
      "attachments": {},
      "cell_type": "markdown",
      "metadata": {
        "id": "LL0FjFgV7k3W"
      },
      "source": [
        "## Step 5: Test Data Value Set Analysis"
      ]
    },
    {
      "cell_type": "code",
      "execution_count": null,
      "metadata": {
        "colab": {
          "base_uri": "https://localhost:8080/",
          "height": 51
        },
        "id": "JbrkZzDZ7aE9",
        "outputId": "81d521bb-9a8d-40ec-ab27-a32e2833348a"
      },
      "outputs": [
        {
          "name": "stdout",
          "output_type": "stream",
          "text": [
            "distribution of 47 columns in test data:\n",
            "{'ExpID': 10, 'PatternID': 2, 'DeviceID': 2, 'ErrRP': 23, 'ErrYaw': 52, 'VDop': 24, 'HAcc': 25, 'VAcc': 46, 'SAcc': 36, 'Delta': 10, 'Status': 2, 'NSats': 10}\n"
          ]
        }
      ],
      "source": [
        "CatLen = []\n",
        "for col in Data_test.columns:\n",
        "  CatLen.append(len(set(Data_test[col])))\n",
        "print('distribution of', len(CatLen), 'columns in test data:')\n",
        "d = dict(zip(Data_test.columns, CatLen))\n",
        "#print(d)\n",
        "print({k: d[k] for k in ('ExpID', 'PatternID', 'DeviceID', 'ErrRP', 'ErrYaw', 'VDop',\n",
        "                         'HAcc', 'VAcc', 'SAcc', 'Delta', 'Status', 'NSats')})"
      ]
    },
    {
      "attachments": {},
      "cell_type": "markdown",
      "metadata": {
        "id": "NQr5gpIT8XYm"
      },
      "source": [
        "we find these columns to be categorical:\n",
        "* ExpID: 10 unique values\n",
        "* PatternID: 2 unique values\n",
        "* DeviceID: 2 unique values\n",
        "* ErrRP: 23 unique values\n",
        "* ErrYaw: 52 unique values\n",
        "* VDop: 24 unique values\n",
        "* HAcc: 25 unique values\n",
        "* VAcc: 46 unique values\n",
        "* SAcc: 36 unique values\n",
        "* Delta: 10 unique values\n",
        "* Status: 2 unique values\n",
        "* NSats: 10 unique values"
      ]
    },
    {
      "attachments": {},
      "cell_type": "markdown",
      "metadata": {
        "id": "GM-WO6_09hIG"
      },
      "source": [
        "Description of each categorical columns:\n",
        "* ExpID: ID of Experiment\n",
        "* PatternID: Route used in Experiment\n",
        "* DeviceID: Quadcopter device (device 1 or device 2)\n",
        "* ErrRP: The average size of the roll/pitch error estimate (values between 0 and 1)\n",
        "* ErrYaw: The average size of the yaw error estimate (values between 0 and 1)\n",
        "* VDop: Vertical dilution of precision, a unitless measure of precision\n",
        "* HAcc: Horizontal Accuracy as reported by the GPS module, in meters\n",
        "* VAcc: Vertical Accuracy as reported by the GPS module, in meters\n",
        "* SAcc: Speed accuracy as reported by the GPS, in m/s/s\n",
        "* Delta: The time between when the previous GPS message and the current GPS message was parsed by the autopilot, in milliseconds\n",
        "* Status: 0 = no GPS, 1 = GPS but no fix, 2 = GPS with 2D fix, 3 = GPS with 3D fix\n",
        "* NSats: The number of satellites current being used"
      ]
    },
    {
      "cell_type": "code",
      "execution_count": null,
      "metadata": {
        "colab": {
          "base_uri": "https://localhost:8080/",
          "height": 51
        },
        "id": "3-Y1wzII8h93",
        "outputId": "1619053b-a24e-4a43-e2ad-7bdfe92f8260"
      },
      "outputs": [
        {
          "name": "stdout",
          "output_type": "stream",
          "text": [
            "distribution of 47 columns in train data:\n",
            "{'ExpID': 12, 'PatternID': 2, 'DeviceID': 2, 'ErrRP': 21, 'ErrYaw': 74, 'VDop': 43, 'HAcc': 29, 'VAcc': 62, 'SAcc': 45, 'Delta': 16, 'Status': 2, 'NSats': 12}\n"
          ]
        }
      ],
      "source": [
        "CatLen = []\n",
        "for col in Data_Train.columns:\n",
        "  CatLen.append(len(set(Data_Train[col])))\n",
        "print('distribution of', len(CatLen), 'columns in train data:')\n",
        "d = dict(zip(Data_Train.columns, CatLen))\n",
        "#print(d)\n",
        "print({k: d[k] for k in ('ExpID', 'PatternID', 'DeviceID', 'ErrRP', 'ErrYaw', 'VDop',\n",
        "                         'HAcc', 'VAcc', 'SAcc', 'Delta', 'Status', 'NSats')})"
      ]
    },
    {
      "cell_type": "code",
      "execution_count": null,
      "metadata": {
        "colab": {
          "base_uri": "https://localhost:8080/",
          "height": 170
        },
        "id": "BnGWiDuZB3W1",
        "outputId": "4c0ec4f1-5631-4c5e-aa67-dec0558533d5"
      },
      "outputs": [
        {
          "name": "stdout",
          "output_type": "stream",
          "text": [
            "['ExpID', 'ErrYaw', 'VDop', 'HAcc', 'VAcc', 'SAcc', 'Delta', 'NSats']\n",
            "{3, 5}\n",
            "{0.67, 0.5, 0.43, 0.34, 0.68, 0.35, 0.44, 0.7, 0.45, 0.37, 0.71, 0.54, 0.46, 0.38, 0.47, 0.72, 0.39, 0.56, 0.73, 0.4, 0.74, 0.41}\n",
            "{0.95, 1.19, 1.29, 1.32, 1.35, 1.17, 1.03, 1.04, 1.33, 1.01, 1.51, 1.26, 1.09, 1.6, 1.02, 0.96, 1.05, 0.89, 0.98, 1.06, 1.15, 0.9}\n",
            "{0.42, 0.7, 0.71, 0.72}\n",
            "{0.68, 1.25, 1.27, 1.26, 1.34, 1.28, 1.33, 1.21, 1.29, 1.22, 1.3, 1.23, 1.31, 0.74, 1.24, 1.32}\n",
            "{0.52, 0.53, 0.62, 0.45, 0.46, 0.38, 0.47, 0.55, 0.56, 0.4, 0.49}\n",
            "{202, 203, 204, 185, 188, 189}\n",
            "{17, 18}\n"
          ]
        }
      ],
      "source": [
        "t_dist = {'ExpID': 10, 'PatternID': 2, 'DeviceID': 2, 'ErrRP': 23, 'ErrYaw': 52, 'VDop': 24, 'HAcc': 25, 'VAcc': 46, 'SAcc': 36, 'Delta': 10, 'Status': 2, 'NSats': 10}\n",
        "T_dist = {'ExpID': 12, 'PatternID': 2, 'DeviceID': 2, 'ErrRP': 21, 'ErrYaw': 74, 'VDop': 43, 'HAcc': 29, 'VAcc': 62, 'SAcc': 45, 'Delta': 16, 'Status': 2, 'NSats': 12}\n",
        "\n",
        "check = [col for col in ('ExpID', 'PatternID', 'DeviceID', 'ErrRP', 'ErrYaw', 'VDop',\n",
        "                         'HAcc', 'VAcc', 'SAcc', 'Delta', 'Status', 'NSats') if T_dist[col] > t_dist[col]]\n",
        "print(check)\n",
        "for key in check:\n",
        "  print(set(Data_Train[key]) - set(Data_test[key]))"
      ]
    },
    {
      "attachments": {},
      "cell_type": "markdown",
      "metadata": {
        "id": "M0xIBJ_vXxGD"
      },
      "source": [
        "Let's remove values by ExpID and NSats"
      ]
    },
    {
      "cell_type": "code",
      "execution_count": null,
      "metadata": {
        "colab": {
          "base_uri": "https://localhost:8080/",
          "height": 68
        },
        "id": "A2bUyFtwYPn4",
        "outputId": "5b83a992-baa3-4d4c-b45f-09235c116185"
      },
      "outputs": [
        {
          "name": "stdout",
          "output_type": "stream",
          "text": [
            "number of removed samples if ExpID filter applied: 1201\n",
            "number of removed samples if NSats filter applied: 483\n",
            "number of removed samples if both filters applied: 1684\n"
          ]
        }
      ],
      "source": [
        "remove_ExpID = (Data_Train['ExpID'] == 3 ) | (Data_Train['ExpID'] == 5 )\n",
        "remove_NSats = (Data_Train['NSats'] == 17) | (Data_Train['NSats'] == 18)\n",
        "\n",
        "print('number of removed samples if ExpID filter applied:', len(Data_Train[remove_ExpID]))\n",
        "print('number of removed samples if NSats filter applied:', len(Data_Train[remove_NSats]))\n",
        "print('number of removed samples if both filters applied:', len(Data_Train[remove_ExpID]) + len(Data_Train[remove_NSats]))"
      ]
    },
    {
      "cell_type": "code",
      "execution_count": null,
      "metadata": {
        "colab": {
          "base_uri": "https://localhost:8080/",
          "height": 68
        },
        "id": "9CERCeXLXh3B",
        "outputId": "6d50ba7b-1fb4-409e-c661-b63151b2dd64"
      },
      "outputs": [
        {
          "name": "stdout",
          "output_type": "stream",
          "text": [
            "new train shape v1: (5116, 47)\n",
            "new train shape v2: (5834, 47)\n",
            "new train shape vb: (4923, 47)\n"
          ]
        }
      ],
      "source": [
        "remove_index = remove_ExpID | remove_NSats\n",
        "Train_Data_v1 = Data_Train[~remove_ExpID].reset_index().drop('index', axis = 1)\n",
        "Train_Data_v2 = Data_Train[~remove_NSats].reset_index().drop('index', axis = 1)\n",
        "Train_Data_vb = Data_Train[~remove_index].reset_index().drop('index', axis = 1)\n",
        "print('new train shape v1:', Train_Data_v1.shape)\n",
        "print('new train shape v2:', Train_Data_v2.shape)\n",
        "print('new train shape vb:', Train_Data_vb.shape)"
      ]
    },
    {
      "cell_type": "code",
      "execution_count": null,
      "metadata": {
        "id": "FkEHOnQHb-AB"
      },
      "outputs": [],
      "source": [
        "Data_test.to_csv('test.csv', index = False)\n",
        "\n",
        "Data_Train.to_csv('train.csv', index = False)\n",
        "Train_Data_v1.to_csv('train_ExpID_filter.csv', index = False)\n",
        "Train_Data_v2.to_csv('train_NSats_filter.csv', index = False)\n",
        "Train_Data_vb.to_csv('train_both_filter.csv', index = False)\n",
        "\n",
        "!cp *.csv 'drive/My Drive/ITToday'"
      ]
    },
    {
      "attachments": {},
      "cell_type": "markdown",
      "metadata": {
        "id": "sA-VWsK7caGr"
      },
      "source": [
        "# End of Pre-processing"
      ]
    }
  ],
  "metadata": {
    "accelerator": "GPU",
    "colab": {
      "provenance": []
    },
    "kernelspec": {
      "display_name": "Python 3",
      "name": "python3"
    }
  },
  "nbformat": 4,
  "nbformat_minor": 0
}
