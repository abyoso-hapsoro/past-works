{
  "cells": [
    {
      "attachments": {},
      "cell_type": "markdown",
      "metadata": {
        "id": "6nKQeJDEj2s4"
      },
      "source": [
        "# Sample Submission"
      ]
    },
    {
      "cell_type": "code",
      "execution_count": null,
      "metadata": {
        "colab": {
          "base_uri": "https://localhost:8080/",
          "height": 359
        },
        "id": "1myKm-D2jzuP",
        "outputId": "377208f7-d37c-4102-f708-9cc6fcc87eff"
      },
      "outputs": [
        {
          "data": {
            "text/html": [
              "<div>\n",
              "<style scoped>\n",
              "    .dataframe tbody tr th:only-of-type {\n",
              "        vertical-align: middle;\n",
              "    }\n",
              "\n",
              "    .dataframe tbody tr th {\n",
              "        vertical-align: top;\n",
              "    }\n",
              "\n",
              "    .dataframe thead th {\n",
              "        text-align: right;\n",
              "    }\n",
              "</style>\n",
              "<table border=\"1\" class=\"dataframe\">\n",
              "  <thead>\n",
              "    <tr style=\"text-align: right;\">\n",
              "      <th></th>\n",
              "      <th>id</th>\n",
              "      <th>Lng</th>\n",
              "      <th>Lat</th>\n",
              "    </tr>\n",
              "  </thead>\n",
              "  <tbody>\n",
              "    <tr>\n",
              "      <th>0</th>\n",
              "      <td>516</td>\n",
              "      <td>106.733964</td>\n",
              "      <td>-6.557158</td>\n",
              "    </tr>\n",
              "    <tr>\n",
              "      <th>1</th>\n",
              "      <td>517</td>\n",
              "      <td>106.733964</td>\n",
              "      <td>-6.557158</td>\n",
              "    </tr>\n",
              "    <tr>\n",
              "      <th>2</th>\n",
              "      <td>518</td>\n",
              "      <td>106.733964</td>\n",
              "      <td>-6.557158</td>\n",
              "    </tr>\n",
              "    <tr>\n",
              "      <th>3</th>\n",
              "      <td>519</td>\n",
              "      <td>106.733964</td>\n",
              "      <td>-6.557158</td>\n",
              "    </tr>\n",
              "    <tr>\n",
              "      <th>4</th>\n",
              "      <td>520</td>\n",
              "      <td>106.733964</td>\n",
              "      <td>-6.557158</td>\n",
              "    </tr>\n",
              "    <tr>\n",
              "      <th>5</th>\n",
              "      <td>521</td>\n",
              "      <td>106.733964</td>\n",
              "      <td>-6.557158</td>\n",
              "    </tr>\n",
              "    <tr>\n",
              "      <th>6</th>\n",
              "      <td>522</td>\n",
              "      <td>106.733964</td>\n",
              "      <td>-6.557158</td>\n",
              "    </tr>\n",
              "    <tr>\n",
              "      <th>7</th>\n",
              "      <td>523</td>\n",
              "      <td>106.733964</td>\n",
              "      <td>-6.557158</td>\n",
              "    </tr>\n",
              "    <tr>\n",
              "      <th>8</th>\n",
              "      <td>524</td>\n",
              "      <td>106.733964</td>\n",
              "      <td>-6.557158</td>\n",
              "    </tr>\n",
              "    <tr>\n",
              "      <th>9</th>\n",
              "      <td>525</td>\n",
              "      <td>106.733964</td>\n",
              "      <td>-6.557158</td>\n",
              "    </tr>\n",
              "  </tbody>\n",
              "</table>\n",
              "</div>"
            ],
            "text/plain": [
              "    id         Lng       Lat\n",
              "0  516  106.733964 -6.557158\n",
              "1  517  106.733964 -6.557158\n",
              "2  518  106.733964 -6.557158\n",
              "3  519  106.733964 -6.557158\n",
              "4  520  106.733964 -6.557158\n",
              "5  521  106.733964 -6.557158\n",
              "6  522  106.733964 -6.557158\n",
              "7  523  106.733964 -6.557158\n",
              "8  524  106.733964 -6.557158\n",
              "9  525  106.733964 -6.557158"
            ]
          },
          "execution_count": 1,
          "metadata": {},
          "output_type": "execute_result"
        }
      ],
      "source": [
        "import pandas as pd\n",
        "example = pd.read_csv('sampleSubmission.csv')\n",
        "example.head(10)"
      ]
    },
    {
      "attachments": {},
      "cell_type": "markdown",
      "metadata": {
        "id": "34A_k_-ikCxi"
      },
      "source": [
        "# Load Data"
      ]
    },
    {
      "cell_type": "code",
      "execution_count": null,
      "metadata": {
        "colab": {
          "base_uri": "https://localhost:8080/",
          "height": 51
        },
        "id": "xUz6nXGqj_Tp",
        "outputId": "0aba1220-d176-4332-b8d6-932a3a3de678"
      },
      "outputs": [
        {
          "name": "stdout",
          "output_type": "stream",
          "text": [
            "train data shape: (6440, 47)\n",
            "test data shape : (2351, 47)\n"
          ]
        }
      ],
      "source": [
        "from pandas_profiling import ProfileReport as Report\n",
        "\n",
        "QuadData = pd.read_csv('QuadData_train.csv')\n",
        "to_pred  = pd.read_csv('QuadData_test.csv')\n",
        "\n",
        "print('train data shape:', QuadData.shape)\n",
        "print('test data shape :', to_pred.shape)"
      ]
    },
    {
      "cell_type": "code",
      "execution_count": null,
      "metadata": {
        "id": "9umW2p9okakz"
      },
      "outputs": [],
      "source": [
        "# Report(QuadData)"
      ]
    },
    {
      "cell_type": "code",
      "execution_count": null,
      "metadata": {
        "colab": {
          "base_uri": "https://localhost:8080/",
          "height": 131
        },
        "id": "NwjwZ0lNlsdl",
        "outputId": "9e377b45-d243-4109-8990-738a5243fc91",
        "scrolled": false
      },
      "outputs": [
        {
          "data": {
            "text/html": [
              "<div>\n",
              "<style scoped>\n",
              "    .dataframe tbody tr th:only-of-type {\n",
              "        vertical-align: middle;\n",
              "    }\n",
              "\n",
              "    .dataframe tbody tr th {\n",
              "        vertical-align: top;\n",
              "    }\n",
              "\n",
              "    .dataframe thead th {\n",
              "        text-align: right;\n",
              "    }\n",
              "</style>\n",
              "<table border=\"1\" class=\"dataframe\">\n",
              "  <thead>\n",
              "    <tr style=\"text-align: right;\">\n",
              "      <th></th>\n",
              "      <th>id</th>\n",
              "      <th>ExpID</th>\n",
              "      <th>PatternID</th>\n",
              "      <th>DeviceID</th>\n",
              "      <th>LineNo_ATT</th>\n",
              "      <th>DesRoll</th>\n",
              "      <th>Roll</th>\n",
              "      <th>DesPitch</th>\n",
              "      <th>Pitch</th>\n",
              "      <th>DesYaw</th>\n",
              "      <th>...</th>\n",
              "      <th>AccZ_2</th>\n",
              "      <th>MagX</th>\n",
              "      <th>MagY</th>\n",
              "      <th>MagZ</th>\n",
              "      <th>MagZ_2</th>\n",
              "      <th>C1</th>\n",
              "      <th>C2</th>\n",
              "      <th>C3</th>\n",
              "      <th>Lat</th>\n",
              "      <th>Lng</th>\n",
              "    </tr>\n",
              "  </thead>\n",
              "  <tbody>\n",
              "    <tr>\n",
              "      <th>0</th>\n",
              "      <td>0</td>\n",
              "      <td>6</td>\n",
              "      <td>2</td>\n",
              "      <td>1</td>\n",
              "      <td>14206</td>\n",
              "      <td>-2.52</td>\n",
              "      <td>-0.74</td>\n",
              "      <td>-2.30</td>\n",
              "      <td>-1.55</td>\n",
              "      <td>359.96</td>\n",
              "      <td>...</td>\n",
              "      <td>-10.886220</td>\n",
              "      <td>382</td>\n",
              "      <td>-12</td>\n",
              "      <td>-200</td>\n",
              "      <td>-275</td>\n",
              "      <td>1536</td>\n",
              "      <td>1578</td>\n",
              "      <td>1719</td>\n",
              "      <td>-6.557158</td>\n",
              "      <td>106.733964</td>\n",
              "    </tr>\n",
              "    <tr>\n",
              "      <th>1</th>\n",
              "      <td>1</td>\n",
              "      <td>6</td>\n",
              "      <td>2</td>\n",
              "      <td>1</td>\n",
              "      <td>14216</td>\n",
              "      <td>-2.64</td>\n",
              "      <td>0.28</td>\n",
              "      <td>-2.95</td>\n",
              "      <td>-1.02</td>\n",
              "      <td>359.96</td>\n",
              "      <td>...</td>\n",
              "      <td>-9.850414</td>\n",
              "      <td>385</td>\n",
              "      <td>4</td>\n",
              "      <td>-193</td>\n",
              "      <td>-277</td>\n",
              "      <td>1581</td>\n",
              "      <td>1553</td>\n",
              "      <td>1697</td>\n",
              "      <td>-6.557158</td>\n",
              "      <td>106.733964</td>\n",
              "    </tr>\n",
              "  </tbody>\n",
              "</table>\n",
              "<p>2 rows × 47 columns</p>\n",
              "</div>"
            ],
            "text/plain": [
              "   id  ExpID  PatternID  DeviceID  LineNo_ATT  DesRoll  Roll  DesPitch  Pitch  \\\n",
              "0   0      6          2         1       14206    -2.52 -0.74     -2.30  -1.55   \n",
              "1   1      6          2         1       14216    -2.64  0.28     -2.95  -1.02   \n",
              "\n",
              "   DesYaw  ...     AccZ_2  MagX  MagY  MagZ  MagZ_2    C1    C2    C3  \\\n",
              "0  359.96  ... -10.886220   382   -12  -200    -275  1536  1578  1719   \n",
              "1  359.96  ...  -9.850414   385     4  -193    -277  1581  1553  1697   \n",
              "\n",
              "        Lat         Lng  \n",
              "0 -6.557158  106.733964  \n",
              "1 -6.557158  106.733964  \n",
              "\n",
              "[2 rows x 47 columns]"
            ]
          },
          "execution_count": 4,
          "metadata": {},
          "output_type": "execute_result"
        }
      ],
      "source": [
        "dev_dict = {'F330': 0, 'F450': 1}\n",
        "QuadData = QuadData.replace({'DeviceID': dev_dict})\n",
        "to_pred  = to_pred.replace({'DeviceID': dev_dict})\n",
        "QuadData.head(2)"
      ]
    },
    {
      "cell_type": "code",
      "execution_count": null,
      "metadata": {
        "id": "qG085bGW0xNQ"
      },
      "outputs": [],
      "source": [
        "QuadData.drop(['id'], axis=1, inplace=True)\n",
        "to_pred.drop(['id'], axis=1, inplace=True)"
      ]
    },
    {
      "attachments": {},
      "cell_type": "markdown",
      "metadata": {
        "id": "woK7pVo5nNdl"
      },
      "source": [
        "# Extract the Data"
      ]
    },
    {
      "cell_type": "code",
      "execution_count": null,
      "metadata": {
        "colab": {
          "base_uri": "https://localhost:8080/",
          "height": 34
        },
        "id": "f92xMt6jnYTM",
        "outputId": "23ae6a3c-de25-4745-bc1c-51c474425f27"
      },
      "outputs": [
        {
          "name": "stdout",
          "output_type": "stream",
          "text": [
            "(6440, 44) (6440, 2) (2351, 44)\n"
          ]
        }
      ],
      "source": [
        "x = QuadData.drop(['Lng','Lat'], axis = 1)\n",
        "y = QuadData[['Lng', 'Lat']]\n",
        "to_pred.drop(['Lng', 'Lat'], axis=1, inplace=True)\n",
        "print(x.shape, y.shape, to_pred.shape)"
      ]
    },
    {
      "attachments": {},
      "cell_type": "markdown",
      "metadata": {
        "id": "awDAf_pLyhVa"
      },
      "source": [
        "# Scaling"
      ]
    },
    {
      "cell_type": "code",
      "execution_count": null,
      "metadata": {
        "id": "YpfPaE3n0xNS"
      },
      "outputs": [],
      "source": [
        "x_before_scaling, y_before_scaling, to_pred_before_scaling = x, y, to_pred"
      ]
    },
    {
      "cell_type": "code",
      "execution_count": null,
      "metadata": {
        "id": "tD4iLMEG0xNS"
      },
      "outputs": [],
      "source": [
        "x, y, to_pred = x_before_scaling, y_before_scaling, to_pred_before_scaling"
      ]
    },
    {
      "cell_type": "code",
      "execution_count": null,
      "metadata": {
        "colab": {
          "base_uri": "https://localhost:8080/",
          "height": 131
        },
        "id": "VdnrKiGOytPG",
        "outputId": "5a296e80-52f9-4306-bf55-7202798f20f5"
      },
      "outputs": [
        {
          "data": {
            "text/html": [
              "<div>\n",
              "<style scoped>\n",
              "    .dataframe tbody tr th:only-of-type {\n",
              "        vertical-align: middle;\n",
              "    }\n",
              "\n",
              "    .dataframe tbody tr th {\n",
              "        vertical-align: top;\n",
              "    }\n",
              "\n",
              "    .dataframe thead th {\n",
              "        text-align: right;\n",
              "    }\n",
              "</style>\n",
              "<table border=\"1\" class=\"dataframe\">\n",
              "  <thead>\n",
              "    <tr style=\"text-align: right;\">\n",
              "      <th></th>\n",
              "      <th>ExpID</th>\n",
              "      <th>PatternID</th>\n",
              "      <th>DeviceID</th>\n",
              "      <th>LineNo_ATT</th>\n",
              "      <th>DesRoll</th>\n",
              "      <th>Roll</th>\n",
              "      <th>DesPitch</th>\n",
              "      <th>Pitch</th>\n",
              "      <th>DesYaw</th>\n",
              "      <th>Yaw</th>\n",
              "      <th>...</th>\n",
              "      <th>AccY</th>\n",
              "      <th>AccZ</th>\n",
              "      <th>AccZ_2</th>\n",
              "      <th>MagX</th>\n",
              "      <th>MagY</th>\n",
              "      <th>MagZ</th>\n",
              "      <th>MagZ_2</th>\n",
              "      <th>C1</th>\n",
              "      <th>C2</th>\n",
              "      <th>C3</th>\n",
              "    </tr>\n",
              "  </thead>\n",
              "  <tbody>\n",
              "    <tr>\n",
              "      <th>0</th>\n",
              "      <td>0.454545</td>\n",
              "      <td>1.0</td>\n",
              "      <td>1.0</td>\n",
              "      <td>0.487960</td>\n",
              "      <td>0.229194</td>\n",
              "      <td>0.227626</td>\n",
              "      <td>0.409800</td>\n",
              "      <td>0.316136</td>\n",
              "      <td>0.999917</td>\n",
              "      <td>0.005862</td>\n",
              "      <td>...</td>\n",
              "      <td>0.873730</td>\n",
              "      <td>0.509687</td>\n",
              "      <td>0.602476</td>\n",
              "      <td>0.954545</td>\n",
              "      <td>0.549531</td>\n",
              "      <td>0.378182</td>\n",
              "      <td>0.223796</td>\n",
              "      <td>0.627164</td>\n",
              "      <td>0.689516</td>\n",
              "      <td>0.870839</td>\n",
              "    </tr>\n",
              "    <tr>\n",
              "      <th>1</th>\n",
              "      <td>0.454545</td>\n",
              "      <td>1.0</td>\n",
              "      <td>1.0</td>\n",
              "      <td>0.488314</td>\n",
              "      <td>0.227213</td>\n",
              "      <td>0.242566</td>\n",
              "      <td>0.400903</td>\n",
              "      <td>0.323257</td>\n",
              "      <td>0.999917</td>\n",
              "      <td>0.999222</td>\n",
              "      <td>...</td>\n",
              "      <td>0.861961</td>\n",
              "      <td>0.551377</td>\n",
              "      <td>0.649525</td>\n",
              "      <td>0.957576</td>\n",
              "      <td>0.566215</td>\n",
              "      <td>0.390909</td>\n",
              "      <td>0.218130</td>\n",
              "      <td>0.687084</td>\n",
              "      <td>0.655914</td>\n",
              "      <td>0.841545</td>\n",
              "    </tr>\n",
              "  </tbody>\n",
              "</table>\n",
              "<p>2 rows × 44 columns</p>\n",
              "</div>"
            ],
            "text/plain": [
              "      ExpID  PatternID  DeviceID  LineNo_ATT   DesRoll      Roll  DesPitch  \\\n",
              "0  0.454545        1.0       1.0    0.487960  0.229194  0.227626  0.409800   \n",
              "1  0.454545        1.0       1.0    0.488314  0.227213  0.242566  0.400903   \n",
              "\n",
              "      Pitch    DesYaw       Yaw  ...      AccY      AccZ    AccZ_2      MagX  \\\n",
              "0  0.316136  0.999917  0.005862  ...  0.873730  0.509687  0.602476  0.954545   \n",
              "1  0.323257  0.999917  0.999222  ...  0.861961  0.551377  0.649525  0.957576   \n",
              "\n",
              "       MagY      MagZ    MagZ_2        C1        C2        C3  \n",
              "0  0.549531  0.378182  0.223796  0.627164  0.689516  0.870839  \n",
              "1  0.566215  0.390909  0.218130  0.687084  0.655914  0.841545  \n",
              "\n",
              "[2 rows x 44 columns]"
            ]
          },
          "execution_count": 18,
          "metadata": {},
          "output_type": "execute_result"
        }
      ],
      "source": [
        "from sklearn.preprocessing import MinMaxScaler\n",
        "\n",
        "scaler = MinMaxScaler()\n",
        "X = scaler.fit_transform(x)\n",
        "x = pd.DataFrame(X, columns=x.columns)\n",
        "To_pred = scaler.transform(to_pred)\n",
        "to_pred = pd.DataFrame(To_pred, columns=to_pred.columns)\n",
        "x.head(2)"
      ]
    },
    {
      "attachments": {},
      "cell_type": "markdown",
      "metadata": {
        "id": "Zpt76hDdps6Z"
      },
      "source": [
        "# Define Custom Scorer"
      ]
    },
    {
      "cell_type": "code",
      "execution_count": null,
      "metadata": {
        "id": "VK3P11AXpsUa"
      },
      "outputs": [],
      "source": [
        "from sklearn.metrics.scorer import make_scorer\n",
        "from haversine import haversine\n",
        "\n",
        "def haversine_score(y_true, y_pred):\n",
        "  assert len(y_true) == len(y_pred)\n",
        "  total, n = 0, len(y_true)\n",
        "  for i in range(n):\n",
        "    total += haversine(y_true[i], y_pred[i])\n",
        "  return total/n\n",
        "\n",
        "haversine_scorer = make_scorer(haversine_score, greater_is_better = False)"
      ]
    },
    {
      "attachments": {},
      "cell_type": "markdown",
      "metadata": {
        "id": "k_Pn7GOen4v_"
      },
      "source": [
        "# The Regressors before Feature Engineering"
      ]
    },
    {
      "cell_type": "code",
      "execution_count": null,
      "metadata": {
        "id": "4vAvS1YWnua8"
      },
      "outputs": [],
      "source": [
        "import numpy as np\n",
        "from math import sqrt\n",
        "\n",
        "from sklearn.neighbors import KNeighborsRegressor\n",
        "from sklearn.linear_model import LinearRegression, Ridge, BayesianRidge, Lasso, LassoLars, ElasticNet, OrthogonalMatchingPursuit\n",
        "from sklearn.svm import LinearSVR, SVR\n",
        "from sklearn.tree import ExtraTreeRegressor, DecisionTreeRegressor\n",
        "from sklearn.ensemble import RandomForestRegressor, GradientBoostingRegressor, AdaBoostRegressor, BaggingRegressor\n",
        "\n",
        "from mlxtend.regressor import StackingRegressor\n",
        "from sklearn.model_selection import cross_val_score"
      ]
    },
    {
      "cell_type": "code",
      "execution_count": null,
      "metadata": {
        "id": "0WxEKPwsoAbP"
      },
      "outputs": [],
      "source": [
        "knn = KNeighborsRegressor()\n",
        "\n",
        "linreg = LinearRegression()\n",
        "\n",
        "linearSVR = LinearSVR(random_state = 123)\n",
        "kernelSVR = SVR()\n",
        "\n",
        "extratree = ExtraTreeRegressor(random_state = 123)\n",
        "decisiontree = DecisionTreeRegressor(random_state = 123)\n",
        "\n",
        "randomforest = RandomForestRegressor(random_state = 123, n_estimators = 100)\n",
        "randomforest2 = RandomForestRegressor(random_state = 123, n_estimators = 100, max_features = \"log2\")\n",
        "\n",
        "ridge = Ridge(random_state = 123)\n",
        "bayesridge = BayesianRidge()\n",
        "\n",
        "lasso = Lasso()\n",
        "lars = LassoLars()\n",
        "net = ElasticNet()\n",
        "\n",
        "omp = OrthogonalMatchingPursuit()\n",
        "\n",
        "bagging = BaggingRegressor(random_state= 123, n_estimators = 100)\n",
        "\n",
        "boosting = GradientBoostingRegressor(random_state = 123, n_estimators = 100)\n",
        "adaboost = AdaBoostRegressor(random_state= 123, n_estimators= 100)"
      ]
    },
    {
      "attachments": {},
      "cell_type": "markdown",
      "metadata": {
        "id": "DXrrCspS0xNU"
      },
      "source": [
        "# Feature Selection"
      ]
    },
    {
      "attachments": {},
      "cell_type": "markdown",
      "metadata": {
        "id": "Wa8iv0dp0xNU"
      },
      "source": [
        "## Tuning Parameter for Lasso"
      ]
    },
    {
      "cell_type": "code",
      "execution_count": null,
      "metadata": {
        "id": "0-C7rake0xNV"
      },
      "outputs": [],
      "source": [
        "from sklearn.model_selection import GridSearchCV\n",
        "from sklearn.linear_model import MultiTaskLassoCV\n",
        "from sklearn.feature_selection import SelectFromModel"
      ]
    },
    {
      "cell_type": "code",
      "execution_count": null,
      "metadata": {
        "id": "CrTpCxbm0xNV",
        "outputId": "05e8ce8e-8c11-4da7-edad-3780ef39ec4e"
      },
      "outputs": [
        {
          "data": {
            "text/plain": [
              "Lasso(alpha=1.0, copy_X=True, fit_intercept=True, max_iter=1000,\n",
              "      normalize=False, positive=False, precompute=False, random_state=None,\n",
              "      selection='cyclic', tol=0.0001, warm_start=False)"
            ]
          },
          "execution_count": 35,
          "metadata": {},
          "output_type": "execute_result"
        }
      ],
      "source": [
        "Lasso()"
      ]
    },
    {
      "cell_type": "code",
      "execution_count": null,
      "metadata": {
        "id": "1IjkkPcd0xNV"
      },
      "outputs": [],
      "source": [
        "params_grid = {'alpha': [0.01, 0.1, 1, 10],\n",
        "               'max_iter': [1000,10000],\n",
        "               'normalize': [False, True]\n",
        "              }\n",
        "tune_model =GridSearchCV(Lasso(), param_grid=params_grid, scoring = haversine_scorer, cv = 3)"
      ]
    },
    {
      "cell_type": "code",
      "execution_count": null,
      "metadata": {
        "id": "N27btldK0xNW",
        "outputId": "1a438c3a-c8aa-4269-f807-e881eadea6ca"
      },
      "outputs": [
        {
          "data": {
            "text/plain": [
              "GridSearchCV(cv=3, error_score='raise-deprecating',\n",
              "             estimator=Lasso(alpha=1.0, copy_X=True, fit_intercept=True,\n",
              "                             max_iter=1000, normalize=False, positive=False,\n",
              "                             precompute=False, random_state=None,\n",
              "                             selection='cyclic', tol=0.0001, warm_start=False),\n",
              "             iid='warn', n_jobs=None,\n",
              "             param_grid={'alpha': [0.01, 0.1, 1, 10], 'max_iter': [1000, 10000],\n",
              "                         'normalize': [False, True]},\n",
              "             pre_dispatch='2*n_jobs', refit=True, return_train_score=False,\n",
              "             scoring=make_scorer(haversine_score, greater_is_better=False),\n",
              "             verbose=0)"
            ]
          },
          "execution_count": 37,
          "metadata": {},
          "output_type": "execute_result"
        }
      ],
      "source": [
        "tune_model.fit(x, np.array(y))"
      ]
    },
    {
      "cell_type": "code",
      "execution_count": null,
      "metadata": {
        "id": "910GTFZ20xNW",
        "outputId": "3a660a5b-7c55-4a91-da8d-11083f6afcac"
      },
      "outputs": [
        {
          "name": "stdout",
          "output_type": "stream",
          "text": [
            "AFTER DT Parameters:  {'normalize': False, 'max_iter': 1000, 'alpha': 0.01}\n"
          ]
        }
      ],
      "source": [
        "print('AFTER DT Parameters: ', tune_model.best_params_)"
      ]
    },
    {
      "attachments": {},
      "cell_type": "markdown",
      "metadata": {
        "id": "RVne5QIK0xNW"
      },
      "source": [
        "## Feature Selestion Lasso"
      ]
    },
    {
      "cell_type": "code",
      "execution_count": null,
      "metadata": {
        "id": "ciiSUrpc0xNW"
      },
      "outputs": [],
      "source": [
        "x_before_selection, y_before_selection, to_pred_before_selection = x, y, to_pred"
      ]
    },
    {
      "cell_type": "code",
      "execution_count": null,
      "metadata": {
        "id": "u5O0-j6l0xNW"
      },
      "outputs": [],
      "source": [
        "x, y, to_pred = x_before_selection, y_before_selection, to_pred_before_selection"
      ]
    },
    {
      "cell_type": "code",
      "execution_count": null,
      "metadata": {
        "id": "ScrV6JMH0xNX"
      },
      "outputs": [],
      "source": [
        "def print_score(clf, label):\n",
        "    scores = cross_val_score(clf, x, np.array(y), cv = 7, scoring = haversine_scorer)\n",
        "    print(\"Mean Haversine Distance: %0.4f (+/- %0.4f) [%s]\"\n",
        "          % (abs(scores.mean()), abs(scores.std()), label))"
      ]
    },
    {
      "cell_type": "code",
      "execution_count": null,
      "metadata": {
        "id": "0OnIJcgb0xNX",
        "outputId": "2d13fd14-5c4c-439d-daae-74196f780cf6",
        "scrolled": true
      },
      "outputs": [
        {
          "name": "stdout",
          "output_type": "stream",
          "text": [
            "Mean Haversine Distance: 0.0180 (+/- 0.0089) [LinearRegression]\n"
          ]
        }
      ],
      "source": [
        "linreg = LinearRegression()\n",
        "print_score(linreg, 'LinearRegression')"
      ]
    },
    {
      "cell_type": "code",
      "execution_count": null,
      "metadata": {
        "id": "xyZaMete0xNX"
      },
      "outputs": [],
      "source": [
        "from sklearn.linear_model import LassoCV, RidgeCV, ElasticNetCV"
      ]
    },
    {
      "cell_type": "code",
      "execution_count": null,
      "metadata": {
        "id": "EpQD8kon0xNX",
        "outputId": "cc9c117a-3b86-4cc2-b931-6971c1a832fd",
        "scrolled": true
      },
      "outputs": [
        {
          "data": {
            "text/plain": [
              "Index(['PatternID', 'Yaw', 'ErrYaw', 'TAlt', 'Status', 'GMS', 'Spd', 'MagX',\n",
              "       'MagY'],\n",
              "      dtype='object')"
            ]
          },
          "execution_count": 44,
          "metadata": {},
          "output_type": "execute_result"
        }
      ],
      "source": [
        "lasso1 = LassoCV(cv=7, max_iter=10000)\n",
        "featureSelection = SelectFromModel(lasso1, threshold=10**(-6))\n",
        "featureSelection.fit(x, y['Lng'])\n",
        "selectedFeatures = featureSelection.transform(X)\n",
        "x.columns[featureSelection.get_support()]"
      ]
    },
    {
      "cell_type": "code",
      "execution_count": null,
      "metadata": {
        "id": "4ny7KdHD0xNY",
        "outputId": "ed7e40b2-5555-4d2d-884c-2bfa13bc3e01"
      },
      "outputs": [
        {
          "data": {
            "text/plain": [
              "Index(['LineNo_ATT', 'ThH', 'TAlt', 'Spd', 'GCrs', 'MagX', 'MagY', 'MagZ_2'], dtype='object')"
            ]
          },
          "execution_count": 45,
          "metadata": {},
          "output_type": "execute_result"
        }
      ],
      "source": [
        "lasso2 = LassoCV(cv=7, max_iter=10000)\n",
        "featureSelection2 = SelectFromModel(lasso2, threshold=10**(-6))\n",
        "featureSelection2.fit(x, y['Lat'])\n",
        "selectedFeatures2 = featureSelection2.transform(X)\n",
        "x.columns[featureSelection2.get_support()]"
      ]
    },
    {
      "cell_type": "code",
      "execution_count": null,
      "metadata": {
        "id": "bay1TdOM0xNY"
      },
      "outputs": [],
      "source": [
        "x_selected = x.loc[:, (featureSelection.get_support() + featureSelection2.get_support() ) ]"
      ]
    },
    {
      "cell_type": "code",
      "execution_count": null,
      "metadata": {
        "id": "nhMxjkJC0xNY",
        "outputId": "ddc59618-a8e4-4e3f-e48f-9affdec2a744",
        "scrolled": false
      },
      "outputs": [
        {
          "data": {
            "text/plain": [
              "Index(['PatternID', 'LineNo_ATT', 'Yaw', 'ErrYaw', 'ThH', 'TAlt', 'Status',\n",
              "       'GMS', 'Spd', 'GCrs', 'MagX', 'MagY', 'MagZ_2'],\n",
              "      dtype='object')"
            ]
          },
          "execution_count": 47,
          "metadata": {},
          "output_type": "execute_result"
        }
      ],
      "source": [
        "x_selected.columns"
      ]
    },
    {
      "cell_type": "code",
      "execution_count": null,
      "metadata": {
        "id": "kHD407n30xNY",
        "outputId": "8ca1118e-3808-445f-8762-3ed90abf4d4f",
        "scrolled": false
      },
      "outputs": [
        {
          "name": "stdout",
          "output_type": "stream",
          "text": [
            "7-fold cross validation:\n",
            "\n",
            "Mean Haversine Distance: 0.0090 (+/- 0.0058) [K-Neighbors Regressor]\n",
            "Mean Haversine Distance: 0.0128 (+/- 0.0007) [Linear Regression]\n",
            "Mean Haversine Distance: 0.0181 (+/- 0.0033) [Extra Tree Regressor]\n",
            "Mean Haversine Distance: 0.0181 (+/- 0.0033) [Decision Tree Regressor]\n",
            "Mean Haversine Distance: 0.0181 (+/- 0.0033) [Random Forest Regressor 1]\n",
            "Mean Haversine Distance: 0.0181 (+/- 0.0033) [Random Forest Regressor 2]\n",
            "Mean Haversine Distance: 0.0181 (+/- 0.0033) [Lasso]\n",
            "Mean Haversine Distance: 0.0181 (+/- 0.0033) [Lasso Lars]\n",
            "Mean Haversine Distance: 0.0163 (+/- 0.0017) [Orthogonal Matching Pursuit]\n",
            "Mean Haversine Distance: 0.0181 (+/- 0.0033) [Bagging Regressor]\n"
          ]
        }
      ],
      "source": [
        "print('7-fold cross validation:\\n')\n",
        "\n",
        "for clf, label in zip([knn, linreg, extratree, decisiontree, randomforest,\n",
        "                       randomforest2, lasso, lars, omp, bagging],\n",
        "                      ['K-Neighbors Regressor',\n",
        "                       'Linear Regression',\n",
        "                       'Extra Tree Regressor',\n",
        "                       'Decision Tree Regressor',\n",
        "                       'Random Forest Regressor 1',\n",
        "                       'Random Forest Regressor 2',\n",
        "                       'Lasso',\n",
        "                       'Lasso Lars',\n",
        "                       'Orthogonal Matching Pursuit',\n",
        "                       'Bagging Regressor']):\n",
        "\n",
        "    try:\n",
        "        scores = cross_val_score(clf, x_selected, np.array(y), cv = 7, scoring = haversine_scorer)\n",
        "        print(\"Mean Haversine Distance: %0.4f (+/- %0.4f) [%s]\"\n",
        "              % (abs(scores.mean()), abs(scores.std()), label))\n",
        "    except Exception as e:\n",
        "        print(type(e).__name__ + \" [%s]\"%(label))\n",
        "        if str(e).strip() != '':\n",
        "            print('\\t' + str(e))\n",
        "        continue"
      ]
    },
    {
      "cell_type": "code",
      "execution_count": null,
      "metadata": {
        "id": "xTqaKoOo0xNZ",
        "outputId": "9fd1ea64-51bc-475a-e58f-450a1fa0d135"
      },
      "outputs": [
        {
          "data": {
            "text/html": [
              "<div>\n",
              "<style scoped>\n",
              "    .dataframe tbody tr th:only-of-type {\n",
              "        vertical-align: middle;\n",
              "    }\n",
              "\n",
              "    .dataframe tbody tr th {\n",
              "        vertical-align: top;\n",
              "    }\n",
              "\n",
              "    .dataframe thead th {\n",
              "        text-align: right;\n",
              "    }\n",
              "</style>\n",
              "<table border=\"1\" class=\"dataframe\">\n",
              "  <thead>\n",
              "    <tr style=\"text-align: right;\">\n",
              "      <th></th>\n",
              "      <th>PatternID</th>\n",
              "      <th>LineNo_ATT</th>\n",
              "      <th>Yaw</th>\n",
              "      <th>ErrYaw</th>\n",
              "      <th>ThH</th>\n",
              "      <th>TAlt</th>\n",
              "      <th>Status</th>\n",
              "      <th>GMS</th>\n",
              "      <th>Spd</th>\n",
              "      <th>GCrs</th>\n",
              "      <th>MagX</th>\n",
              "      <th>MagY</th>\n",
              "      <th>MagZ_2</th>\n",
              "    </tr>\n",
              "  </thead>\n",
              "  <tbody>\n",
              "    <tr>\n",
              "      <th>PatternID</th>\n",
              "      <td>1.000000</td>\n",
              "      <td>0.291060</td>\n",
              "      <td>-0.083016</td>\n",
              "      <td>-0.430281</td>\n",
              "      <td>-0.692587</td>\n",
              "      <td>0.000886</td>\n",
              "      <td>-0.379523</td>\n",
              "      <td>0.276741</td>\n",
              "      <td>0.088025</td>\n",
              "      <td>-0.110923</td>\n",
              "      <td>-0.024298</td>\n",
              "      <td>0.034795</td>\n",
              "      <td>0.146346</td>\n",
              "    </tr>\n",
              "    <tr>\n",
              "      <th>LineNo_ATT</th>\n",
              "      <td>0.291060</td>\n",
              "      <td>1.000000</td>\n",
              "      <td>-0.142028</td>\n",
              "      <td>-0.002994</td>\n",
              "      <td>0.011788</td>\n",
              "      <td>0.153542</td>\n",
              "      <td>0.495022</td>\n",
              "      <td>0.183302</td>\n",
              "      <td>0.077042</td>\n",
              "      <td>-0.136287</td>\n",
              "      <td>-0.132430</td>\n",
              "      <td>-0.031997</td>\n",
              "      <td>-0.135625</td>\n",
              "    </tr>\n",
              "    <tr>\n",
              "      <th>Yaw</th>\n",
              "      <td>-0.083016</td>\n",
              "      <td>-0.142028</td>\n",
              "      <td>1.000000</td>\n",
              "      <td>0.132562</td>\n",
              "      <td>0.089260</td>\n",
              "      <td>-0.193811</td>\n",
              "      <td>-0.112226</td>\n",
              "      <td>-0.147095</td>\n",
              "      <td>-0.022357</td>\n",
              "      <td>0.396576</td>\n",
              "      <td>-0.044982</td>\n",
              "      <td>0.628115</td>\n",
              "      <td>-0.271521</td>\n",
              "    </tr>\n",
              "    <tr>\n",
              "      <th>ErrYaw</th>\n",
              "      <td>-0.430281</td>\n",
              "      <td>-0.002994</td>\n",
              "      <td>0.132562</td>\n",
              "      <td>1.000000</td>\n",
              "      <td>0.334670</td>\n",
              "      <td>0.170189</td>\n",
              "      <td>0.213032</td>\n",
              "      <td>-0.489251</td>\n",
              "      <td>0.148774</td>\n",
              "      <td>0.115172</td>\n",
              "      <td>-0.227989</td>\n",
              "      <td>0.191391</td>\n",
              "      <td>-0.126427</td>\n",
              "    </tr>\n",
              "    <tr>\n",
              "      <th>ThH</th>\n",
              "      <td>-0.692587</td>\n",
              "      <td>0.011788</td>\n",
              "      <td>0.089260</td>\n",
              "      <td>0.334670</td>\n",
              "      <td>1.000000</td>\n",
              "      <td>-0.060477</td>\n",
              "      <td>0.390548</td>\n",
              "      <td>-0.084143</td>\n",
              "      <td>-0.139424</td>\n",
              "      <td>0.084824</td>\n",
              "      <td>0.018789</td>\n",
              "      <td>-0.008988</td>\n",
              "      <td>-0.309093</td>\n",
              "    </tr>\n",
              "    <tr>\n",
              "      <th>TAlt</th>\n",
              "      <td>0.000886</td>\n",
              "      <td>0.153542</td>\n",
              "      <td>-0.193811</td>\n",
              "      <td>0.170189</td>\n",
              "      <td>-0.060477</td>\n",
              "      <td>1.000000</td>\n",
              "      <td>0.117038</td>\n",
              "      <td>0.069876</td>\n",
              "      <td>0.331166</td>\n",
              "      <td>-0.041730</td>\n",
              "      <td>-0.200524</td>\n",
              "      <td>-0.046580</td>\n",
              "      <td>-0.197296</td>\n",
              "    </tr>\n",
              "    <tr>\n",
              "      <th>Status</th>\n",
              "      <td>-0.379523</td>\n",
              "      <td>0.495022</td>\n",
              "      <td>-0.112226</td>\n",
              "      <td>0.213032</td>\n",
              "      <td>0.390548</td>\n",
              "      <td>0.117038</td>\n",
              "      <td>1.000000</td>\n",
              "      <td>0.187861</td>\n",
              "      <td>0.009051</td>\n",
              "      <td>-0.045299</td>\n",
              "      <td>-0.060388</td>\n",
              "      <td>-0.045685</td>\n",
              "      <td>-0.194457</td>\n",
              "    </tr>\n",
              "    <tr>\n",
              "      <th>GMS</th>\n",
              "      <td>0.276741</td>\n",
              "      <td>0.183302</td>\n",
              "      <td>-0.147095</td>\n",
              "      <td>-0.489251</td>\n",
              "      <td>-0.084143</td>\n",
              "      <td>0.069876</td>\n",
              "      <td>0.187861</td>\n",
              "      <td>1.000000</td>\n",
              "      <td>0.068087</td>\n",
              "      <td>0.000911</td>\n",
              "      <td>0.041756</td>\n",
              "      <td>0.046105</td>\n",
              "      <td>-0.271124</td>\n",
              "    </tr>\n",
              "    <tr>\n",
              "      <th>Spd</th>\n",
              "      <td>0.088025</td>\n",
              "      <td>0.077042</td>\n",
              "      <td>-0.022357</td>\n",
              "      <td>0.148774</td>\n",
              "      <td>-0.139424</td>\n",
              "      <td>0.331166</td>\n",
              "      <td>0.009051</td>\n",
              "      <td>0.068087</td>\n",
              "      <td>1.000000</td>\n",
              "      <td>-0.109883</td>\n",
              "      <td>-0.533132</td>\n",
              "      <td>0.016657</td>\n",
              "      <td>-0.050847</td>\n",
              "    </tr>\n",
              "    <tr>\n",
              "      <th>GCrs</th>\n",
              "      <td>-0.110923</td>\n",
              "      <td>-0.136287</td>\n",
              "      <td>0.396576</td>\n",
              "      <td>0.115172</td>\n",
              "      <td>0.084824</td>\n",
              "      <td>-0.041730</td>\n",
              "      <td>-0.045299</td>\n",
              "      <td>0.000911</td>\n",
              "      <td>-0.109883</td>\n",
              "      <td>1.000000</td>\n",
              "      <td>0.035589</td>\n",
              "      <td>0.513723</td>\n",
              "      <td>-0.237596</td>\n",
              "    </tr>\n",
              "    <tr>\n",
              "      <th>MagX</th>\n",
              "      <td>-0.024298</td>\n",
              "      <td>-0.132430</td>\n",
              "      <td>-0.044982</td>\n",
              "      <td>-0.227989</td>\n",
              "      <td>0.018789</td>\n",
              "      <td>-0.200524</td>\n",
              "      <td>-0.060388</td>\n",
              "      <td>0.041756</td>\n",
              "      <td>-0.533132</td>\n",
              "      <td>0.035589</td>\n",
              "      <td>1.000000</td>\n",
              "      <td>-0.077886</td>\n",
              "      <td>0.113227</td>\n",
              "    </tr>\n",
              "    <tr>\n",
              "      <th>MagY</th>\n",
              "      <td>0.034795</td>\n",
              "      <td>-0.031997</td>\n",
              "      <td>0.628115</td>\n",
              "      <td>0.191391</td>\n",
              "      <td>-0.008988</td>\n",
              "      <td>-0.046580</td>\n",
              "      <td>-0.045685</td>\n",
              "      <td>0.046105</td>\n",
              "      <td>0.016657</td>\n",
              "      <td>0.513723</td>\n",
              "      <td>-0.077886</td>\n",
              "      <td>1.000000</td>\n",
              "      <td>-0.501928</td>\n",
              "    </tr>\n",
              "    <tr>\n",
              "      <th>MagZ_2</th>\n",
              "      <td>0.146346</td>\n",
              "      <td>-0.135625</td>\n",
              "      <td>-0.271521</td>\n",
              "      <td>-0.126427</td>\n",
              "      <td>-0.309093</td>\n",
              "      <td>-0.197296</td>\n",
              "      <td>-0.194457</td>\n",
              "      <td>-0.271124</td>\n",
              "      <td>-0.050847</td>\n",
              "      <td>-0.237596</td>\n",
              "      <td>0.113227</td>\n",
              "      <td>-0.501928</td>\n",
              "      <td>1.000000</td>\n",
              "    </tr>\n",
              "  </tbody>\n",
              "</table>\n",
              "</div>"
            ],
            "text/plain": [
              "            PatternID  LineNo_ATT       Yaw    ErrYaw       ThH      TAlt  \\\n",
              "PatternID    1.000000    0.291060 -0.083016 -0.430281 -0.692587  0.000886   \n",
              "LineNo_ATT   0.291060    1.000000 -0.142028 -0.002994  0.011788  0.153542   \n",
              "Yaw         -0.083016   -0.142028  1.000000  0.132562  0.089260 -0.193811   \n",
              "ErrYaw      -0.430281   -0.002994  0.132562  1.000000  0.334670  0.170189   \n",
              "ThH         -0.692587    0.011788  0.089260  0.334670  1.000000 -0.060477   \n",
              "TAlt         0.000886    0.153542 -0.193811  0.170189 -0.060477  1.000000   \n",
              "Status      -0.379523    0.495022 -0.112226  0.213032  0.390548  0.117038   \n",
              "GMS          0.276741    0.183302 -0.147095 -0.489251 -0.084143  0.069876   \n",
              "Spd          0.088025    0.077042 -0.022357  0.148774 -0.139424  0.331166   \n",
              "GCrs        -0.110923   -0.136287  0.396576  0.115172  0.084824 -0.041730   \n",
              "MagX        -0.024298   -0.132430 -0.044982 -0.227989  0.018789 -0.200524   \n",
              "MagY         0.034795   -0.031997  0.628115  0.191391 -0.008988 -0.046580   \n",
              "MagZ_2       0.146346   -0.135625 -0.271521 -0.126427 -0.309093 -0.197296   \n",
              "\n",
              "              Status       GMS       Spd      GCrs      MagX      MagY  \\\n",
              "PatternID  -0.379523  0.276741  0.088025 -0.110923 -0.024298  0.034795   \n",
              "LineNo_ATT  0.495022  0.183302  0.077042 -0.136287 -0.132430 -0.031997   \n",
              "Yaw        -0.112226 -0.147095 -0.022357  0.396576 -0.044982  0.628115   \n",
              "ErrYaw      0.213032 -0.489251  0.148774  0.115172 -0.227989  0.191391   \n",
              "ThH         0.390548 -0.084143 -0.139424  0.084824  0.018789 -0.008988   \n",
              "TAlt        0.117038  0.069876  0.331166 -0.041730 -0.200524 -0.046580   \n",
              "Status      1.000000  0.187861  0.009051 -0.045299 -0.060388 -0.045685   \n",
              "GMS         0.187861  1.000000  0.068087  0.000911  0.041756  0.046105   \n",
              "Spd         0.009051  0.068087  1.000000 -0.109883 -0.533132  0.016657   \n",
              "GCrs       -0.045299  0.000911 -0.109883  1.000000  0.035589  0.513723   \n",
              "MagX       -0.060388  0.041756 -0.533132  0.035589  1.000000 -0.077886   \n",
              "MagY       -0.045685  0.046105  0.016657  0.513723 -0.077886  1.000000   \n",
              "MagZ_2     -0.194457 -0.271124 -0.050847 -0.237596  0.113227 -0.501928   \n",
              "\n",
              "              MagZ_2  \n",
              "PatternID   0.146346  \n",
              "LineNo_ATT -0.135625  \n",
              "Yaw        -0.271521  \n",
              "ErrYaw     -0.126427  \n",
              "ThH        -0.309093  \n",
              "TAlt       -0.197296  \n",
              "Status     -0.194457  \n",
              "GMS        -0.271124  \n",
              "Spd        -0.050847  \n",
              "GCrs       -0.237596  \n",
              "MagX        0.113227  \n",
              "MagY       -0.501928  \n",
              "MagZ_2      1.000000  "
            ]
          },
          "execution_count": 49,
          "metadata": {},
          "output_type": "execute_result"
        }
      ],
      "source": [
        "x_selected.corr()"
      ]
    },
    {
      "attachments": {},
      "cell_type": "markdown",
      "metadata": {
        "id": "QopD9DBR3h82"
      },
      "source": [
        "# Grid Search Optimization"
      ]
    },
    {
      "cell_type": "code",
      "execution_count": null,
      "metadata": {
        "id": "YO6qcEZf3iby"
      },
      "outputs": [],
      "source": [
        "from sklearn.model_selection import GridSearchCV, RandomizedSearchCV"
      ]
    },
    {
      "cell_type": "code",
      "execution_count": null,
      "metadata": {
        "colab": {
          "base_uri": "https://localhost:8080/",
          "height": 68
        },
        "id": "yfs--9Pe3zdg",
        "outputId": "f3a65d9d-657a-4ca1-cd16-426a4c0b4003"
      },
      "outputs": [
        {
          "data": {
            "text/plain": [
              "KNeighborsRegressor(algorithm='auto', leaf_size=30, metric='minkowski',\n",
              "                    metric_params=None, n_jobs=None, n_neighbors=5, p=2,\n",
              "                    weights='uniform')"
            ]
          },
          "execution_count": 57,
          "metadata": {},
          "output_type": "execute_result"
        }
      ],
      "source": [
        "KNeighborsRegressor()"
      ]
    },
    {
      "cell_type": "code",
      "execution_count": null,
      "metadata": {
        "id": "JEBiROQ_3zZr",
        "outputId": "aaeaa396-99fc-4469-92db-532569dc4d49"
      },
      "outputs": [
        {
          "name": "stdout",
          "output_type": "stream",
          "text": [
            "(best score: -0.008865404768801233, best parameters: {'n_neighbors': 3, 'weights': 'distance'})\n"
          ]
        }
      ],
      "source": [
        "knn_param = {\n",
        "    'n_neighbors' : list(range(1, 21)),\n",
        "    'weights' : ['uniform', 'distance']\n",
        "}\n",
        "\n",
        "gridknn = GridSearchCV(knn, knn_param, cv = 7, scoring = haversine_scorer)\n",
        "gridknn.fit(x_selected, np.array(y));\n",
        "print(\"(best score: %s, best parameters: %s)\"%(gridknn.best_score_, gridknn.best_params_))"
      ]
    },
    {
      "cell_type": "code",
      "execution_count": null,
      "metadata": {
        "id": "_fufvrrJ0xNh"
      },
      "outputs": [],
      "source": [
        "def print_score_sel(clf, label):\n",
        "    scores = cross_val_score(clf, x_selected, np.array(y), cv = 7, scoring = haversine_scorer)\n",
        "    print(\"Mean Haversine Distance: %0.4f (+/- %0.4f) [%s]\"\n",
        "          % (abs(scores.mean()), abs(scores.std()), label))"
      ]
    },
    {
      "cell_type": "code",
      "execution_count": null,
      "metadata": {
        "id": "Q10OhG3X0xNh",
        "outputId": "445f0fa7-171d-456f-c161-9da3a2d8a321"
      },
      "outputs": [
        {
          "name": "stdout",
          "output_type": "stream",
          "text": [
            "Mean Haversine Distance: 0.0089 (+/- 0.0057) [KNNT]\n"
          ]
        }
      ],
      "source": [
        "knn_tuned = KNeighborsRegressor(n_neighbors=3, weights='distance')\n",
        "print_score_sel(knn_tuned, \"KNNT\")"
      ]
    },
    {
      "attachments": {},
      "cell_type": "markdown",
      "metadata": {
        "id": "8WWAV2qw0xNh"
      },
      "source": [
        "# The Regressors"
      ]
    },
    {
      "cell_type": "code",
      "execution_count": null,
      "metadata": {
        "id": "hkd47Xsa0xNi"
      },
      "outputs": [],
      "source": [
        "from sklearn.linear_model import *\n",
        "from sklearn.kernel_ridge import KernelRidge\n",
        "from sklearn.svm import SVR, NuSVR, LinearSVR\n",
        "from sklearn.neighbors import KNeighborsRegressor, RadiusNeighborsRegressor\n",
        "from sklearn.gaussian_process import GaussianProcessRegressor\n",
        "from sklearn.cross_decomposition import PLSRegression\n",
        "from sklearn.tree import DecisionTreeRegressor, ExtraTreeRegressor\n",
        "\n",
        "from sklearn.experimental import enable_hist_gradient_boosting\n",
        "from sklearn.ensemble import RandomForestRegressor, GradientBoostingRegressor, HistGradientBoostingRegressor, AdaBoostRegressor, BaggingRegressor\n",
        "\n",
        "from xgboost import XGBRegressor\n",
        "\n",
        "from sklearn.multioutput import MultiOutputRegressor\n",
        "from sklearn.ensemble import VotingRegressor\n",
        "from mlxtend.regressor import StackingRegressor\n",
        "from sklearn.model_selection import cross_val_score"
      ]
    },
    {
      "cell_type": "code",
      "execution_count": null,
      "metadata": {
        "id": "UkKkIfSM0xNi"
      },
      "outputs": [],
      "source": [
        "knnt = KNeighborsRegressor(n_neighbors=3, weights='distance')\n",
        "linreg = LinearRegression()"
      ]
    },
    {
      "cell_type": "code",
      "execution_count": null,
      "metadata": {
        "id": "IoE8OmRc0xNi",
        "outputId": "3edf7da4-262b-4d3e-d9e2-7bd9dd91fd88"
      },
      "outputs": [
        {
          "name": "stdout",
          "output_type": "stream",
          "text": [
            "Mean Haversine Distance: 0.0089 (+/- 0.0057) [MultiKNN]\n"
          ]
        }
      ],
      "source": [
        "multi_knnt = MultiOutputRegressor(knnt)\n",
        "print_score_sel(multi_knnt, 'MultiKNN')"
      ]
    },
    {
      "cell_type": "code",
      "execution_count": null,
      "metadata": {
        "id": "KUYmDSaY0xNi",
        "outputId": "b039d54a-593f-4dec-b638-a76386d3b5e6",
        "scrolled": true
      },
      "outputs": [
        {
          "name": "stdout",
          "output_type": "stream",
          "text": [
            "Mean Haversine Distance: 0.0068 (+/- 0.0024) [HistGradientBoostingRegressor]\n"
          ]
        }
      ],
      "source": [
        "hist = MultiOutputRegressor(HistGradientBoostingRegressor())\n",
        "print_score_sel(hist, 'HistGradientBoostingRegressor')"
      ]
    },
    {
      "cell_type": "code",
      "execution_count": null,
      "metadata": {
        "id": "u1KOhuUq0xNi",
        "outputId": "bd24f0c2-4ef0-46f5-ce21-53251b84e592"
      },
      "outputs": [
        {
          "data": {
            "text/plain": [
              "dict_keys(['estimator__learning_rate', 'n_jobs', 'estimator__random_state', 'estimator__tol', 'estimator__scoring', 'estimator__max_depth', 'estimator__loss', 'estimator__n_iter_no_change', 'estimator__min_samples_leaf', 'estimator__max_iter', 'estimator__l2_regularization', 'estimator', 'estimator__max_leaf_nodes', 'estimator__validation_fraction', 'estimator__verbose', 'estimator__max_bins'])"
            ]
          },
          "execution_count": 67,
          "metadata": {},
          "output_type": "execute_result"
        }
      ],
      "source": [
        "hist.get_params().keys()"
      ]
    },
    {
      "cell_type": "code",
      "execution_count": null,
      "metadata": {
        "id": "eS_lXvi10xNj",
        "outputId": "2a20af16-e983-4b7d-d12f-b2e2fd4cad82"
      },
      "outputs": [
        {
          "name": "stdout",
          "output_type": "stream",
          "text": [
            "(best score: -0.0069249579167031255, best parameters: {'estimator__max_depth': 5, 'estimator__tol': 1e-05, 'estimator__l2_regularization': 0})\n"
          ]
        }
      ],
      "source": [
        "hist_param = {\n",
        "    'estimator__l2_regularization' : [0, 0.5],\n",
        "    'estimator__max_depth' :[2, 3, 4, 5],\n",
        "    'estimator__tol':[10**(-5)]\n",
        "}\n",
        "\n",
        "gridhist = GridSearchCV(hist, hist_param, cv = 7, scoring = haversine_scorer)\n",
        "gridhist.fit(x_selected, np.array(y));\n",
        "print(\"(best score: %s, best parameters: %s)\"%(gridhist.best_score_, gridhist.best_params_))"
      ]
    },
    {
      "cell_type": "code",
      "execution_count": null,
      "metadata": {
        "id": "KQS73qxL0xNj",
        "outputId": "a95e4e63-61a2-4bbd-a7e4-27beda68b7b3"
      },
      "outputs": [
        {
          "name": "stdout",
          "output_type": "stream",
          "text": [
            "Mean Haversine Distance: 0.0069 (+/- 0.0020) [HistGradientBoostingRegressor_Tuned]\n"
          ]
        }
      ],
      "source": [
        "hist_tuned = MultiOutputRegressor(HistGradientBoostingRegressor(max_depth=5))\n",
        "print_score_sel(hist_tuned, \"HistGradientBoostingRegressor_Tuned\")"
      ]
    },
    {
      "cell_type": "code",
      "execution_count": null,
      "metadata": {
        "id": "5HVd2tIX0xNj"
      },
      "outputs": [],
      "source": [
        "vote1   = VotingRegressor([('linreg', linreg), ('knn', knnt)])\n",
        "vote1   = MultiOutputRegressor(vote1)\n",
        "stackr1 = StackingRegressor(meta_regressor = knnt, regressors = [linreg])\n",
        "stackr2 = StackingRegressor(meta_regressor = linreg, regressors = [knnt])"
      ]
    },
    {
      "cell_type": "code",
      "execution_count": null,
      "metadata": {
        "id": "trrJwjgY0xNk",
        "outputId": "857209c4-4766-4995-c826-697b349a680c"
      },
      "outputs": [
        {
          "name": "stdout",
          "output_type": "stream",
          "text": [
            "7-fold cross validation:\n",
            "\n",
            "Mean Haversine Distance: 0.0089 (+/- 0.0057) [KNN Regressor]\n",
            "Mean Haversine Distance: 0.0128 (+/- 0.0007) [LinearRegression]\n",
            "Mean Haversine Distance: 0.0099 (+/- 0.0029) [Voting Regressor 1]\n",
            "Mean Haversine Distance: 0.0129 (+/- 0.0008) [KNN with Linreg]\n",
            "Mean Haversine Distance: 0.0089 (+/- 0.0057) [Linreg with KNN]\n"
          ]
        }
      ],
      "source": [
        "print('7-fold cross validation:\\n')\n",
        "\n",
        "for reg, label in zip([knnt, linreg, vote1, stackr1, stackr2],\n",
        "                      ['KNN Regressor', 'LinearRegression', 'Voting Regressor 1',\n",
        "                       'KNN with Linreg', 'Linreg with KNN']):\n",
        "    try:\n",
        "        scores = cross_val_score(reg, x_selected, np.array(y), cv = 7, scoring = haversine_scorer)\n",
        "        print('Mean Haversine Distance: %0.4f (+/- %0.4f) [%s]'%(abs(scores.mean()), abs(scores.std()), label))\n",
        "    except ValueError:\n",
        "        scores = cross_val_score(MultiOutputRegressor(reg), x_selected, np.array(y), cv = 7, scoring = haversine_scorer)\n",
        "        print('Mean Haversine Distance: %0.4f (+/- %0.4f) [Multi-Output %s]'%(abs(scores.mean()), abs(scores.std()), label))\n",
        "    except Exception as e:\n",
        "        print(type(e).__name__ + ' [%s]'%(label))\n",
        "        if str(e).strip() != '':\n",
        "            print('\\t' + str(e))\n",
        "        continue"
      ]
    },
    {
      "cell_type": "code",
      "execution_count": null,
      "metadata": {
        "id": "0BoWnql40xNk",
        "outputId": "25c8227f-338e-417a-8894-9cfec707c4be"
      },
      "outputs": [
        {
          "name": "stdout",
          "output_type": "stream",
          "text": [
            "Mean Haversine Distance: 0.0069 (+/- 0.0031) [Voting KNN Hist]\n"
          ]
        }
      ],
      "source": [
        "vote2 = MultiOutputRegressor(VotingRegressor([('knnt', KNeighborsRegressor(n_neighbors=3)),\n",
        "                                              ('hist_tuned', HistGradientBoostingRegressor(max_depth=7))\n",
        "                                              ]))\n",
        "print_score_sel(vote2, \"Voting KNN Hist\")"
      ]
    },
    {
      "attachments": {},
      "cell_type": "markdown",
      "metadata": {
        "id": "dRuJ9QCbr4FZ"
      },
      "source": [
        "# Prediction"
      ]
    },
    {
      "cell_type": "code",
      "execution_count": null,
      "metadata": {
        "colab": {
          "base_uri": "https://localhost:8080/",
          "height": 204
        },
        "id": "kA78e6XModtN",
        "outputId": "f5eb5c69-9032-4ab9-f157-0da2961706e0"
      },
      "outputs": [
        {
          "name": "stdout",
          "output_type": "stream",
          "text": [
            "Mean Haversine Distance: 0.0070 (+/- 0.0030) [Voting KNN Hist]\n"
          ]
        }
      ],
      "source": [
        "data = x_selected\n",
        "target = y\n",
        "\n",
        "model = MultiOutputRegressor(VotingRegressor([('knnt', KNeighborsRegressor(n_neighbors=3)),\n",
        "                                              ('hist_tuned', HistGradientBoostingRegressor(max_depth=5))\n",
        "                                              ]))\n",
        "model.fit(data, target)\n",
        "print_score_sel(model, \"Voting KNN Hist\")"
      ]
    },
    {
      "cell_type": "code",
      "execution_count": null,
      "metadata": {
        "id": "YN9lRjL70xNl"
      },
      "outputs": [],
      "source": [
        "to_pred_selected = to_pred.loc[:, (featureSelection.get_support() + featureSelection2.get_support() )]"
      ]
    },
    {
      "cell_type": "code",
      "execution_count": null,
      "metadata": {
        "id": "QAa5S0vM0xNl"
      },
      "outputs": [],
      "source": [
        "Preds = model.predict(to_pred_selected)"
      ]
    },
    {
      "cell_type": "code",
      "execution_count": null,
      "metadata": {
        "colab": {
          "base_uri": "https://localhost:8080/",
          "height": 204
        },
        "id": "gMaYzxcg0xNl",
        "outputId": "f5eb5c69-9032-4ab9-f157-0da2961706e0"
      },
      "outputs": [
        {
          "data": {
            "text/html": [
              "<div>\n",
              "<style scoped>\n",
              "    .dataframe tbody tr th:only-of-type {\n",
              "        vertical-align: middle;\n",
              "    }\n",
              "\n",
              "    .dataframe tbody tr th {\n",
              "        vertical-align: top;\n",
              "    }\n",
              "\n",
              "    .dataframe thead th {\n",
              "        text-align: right;\n",
              "    }\n",
              "</style>\n",
              "<table border=\"1\" class=\"dataframe\">\n",
              "  <thead>\n",
              "    <tr style=\"text-align: right;\">\n",
              "      <th></th>\n",
              "      <th>id</th>\n",
              "      <th>Lng</th>\n",
              "      <th>Lat</th>\n",
              "    </tr>\n",
              "  </thead>\n",
              "  <tbody>\n",
              "    <tr>\n",
              "      <th>0</th>\n",
              "      <td>516</td>\n",
              "      <td>106.733932</td>\n",
              "      <td>-6.55708</td>\n",
              "    </tr>\n",
              "    <tr>\n",
              "      <th>1</th>\n",
              "      <td>517</td>\n",
              "      <td>106.733936</td>\n",
              "      <td>-6.55708</td>\n",
              "    </tr>\n",
              "    <tr>\n",
              "      <th>2</th>\n",
              "      <td>518</td>\n",
              "      <td>106.733936</td>\n",
              "      <td>-6.55708</td>\n",
              "    </tr>\n",
              "    <tr>\n",
              "      <th>3</th>\n",
              "      <td>519</td>\n",
              "      <td>106.733936</td>\n",
              "      <td>-6.55708</td>\n",
              "    </tr>\n",
              "    <tr>\n",
              "      <th>4</th>\n",
              "      <td>520</td>\n",
              "      <td>106.733936</td>\n",
              "      <td>-6.55708</td>\n",
              "    </tr>\n",
              "  </tbody>\n",
              "</table>\n",
              "</div>"
            ],
            "text/plain": [
              "    id         Lng      Lat\n",
              "0  516  106.733932 -6.55708\n",
              "1  517  106.733936 -6.55708\n",
              "2  518  106.733936 -6.55708\n",
              "3  519  106.733936 -6.55708\n",
              "4  520  106.733936 -6.55708"
            ]
          },
          "execution_count": 78,
          "metadata": {},
          "output_type": "execute_result"
        }
      ],
      "source": [
        "Out = pd.DataFrame({'id': pd.read_csv('QuadData_test.csv')['id']})\n",
        "Out['Lng'] = [Preds[el][0] for el in range(2351)]\n",
        "Out['Lat'] = [Preds[el][1] for el in range(2351)]\n",
        "Out.head()"
      ]
    },
    {
      "cell_type": "code",
      "execution_count": null,
      "metadata": {
        "id": "7z7KnHr3sdEO"
      },
      "outputs": [],
      "source": [
        "Out.to_csv('Submission 10_Voting_Tuned_KNN_w_Tuned_Hist_w_LassoFeatureSelection_w_MinMaxScaler.csv', index = False)\n",
        "#!cp 'Submission 10_Voting_Tuned_KNN_w_Tuned_Hist_w_LassoFeatureSelection_w_MinMaxScaler.csv' 'drive/My Drive/ITToday/Submissions'"
      ]
    },
    {
      "cell_type": "code",
      "execution_count": null,
      "metadata": {
        "colab": {
          "base_uri": "https://localhost:8080/",
          "height": 204
        },
        "id": "EFljWJRftoqM",
        "outputId": "09417fb4-fa16-4fd4-da43-acf35ee2f2e2",
        "scrolled": true
      },
      "outputs": [
        {
          "data": {
            "text/html": [
              "<div>\n",
              "<style scoped>\n",
              "    .dataframe tbody tr th:only-of-type {\n",
              "        vertical-align: middle;\n",
              "    }\n",
              "\n",
              "    .dataframe tbody tr th {\n",
              "        vertical-align: top;\n",
              "    }\n",
              "\n",
              "    .dataframe thead th {\n",
              "        text-align: right;\n",
              "    }\n",
              "</style>\n",
              "<table border=\"1\" class=\"dataframe\">\n",
              "  <thead>\n",
              "    <tr style=\"text-align: right;\">\n",
              "      <th></th>\n",
              "      <th>id</th>\n",
              "      <th>Lng</th>\n",
              "      <th>Lat</th>\n",
              "    </tr>\n",
              "  </thead>\n",
              "  <tbody>\n",
              "    <tr>\n",
              "      <th>0</th>\n",
              "      <td>516</td>\n",
              "      <td>106.734238</td>\n",
              "      <td>-6.557372</td>\n",
              "    </tr>\n",
              "    <tr>\n",
              "      <th>1</th>\n",
              "      <td>517</td>\n",
              "      <td>106.734241</td>\n",
              "      <td>-6.557371</td>\n",
              "    </tr>\n",
              "    <tr>\n",
              "      <th>2</th>\n",
              "      <td>518</td>\n",
              "      <td>106.734241</td>\n",
              "      <td>-6.557373</td>\n",
              "    </tr>\n",
              "    <tr>\n",
              "      <th>3</th>\n",
              "      <td>519</td>\n",
              "      <td>106.734231</td>\n",
              "      <td>-6.557375</td>\n",
              "    </tr>\n",
              "    <tr>\n",
              "      <th>4</th>\n",
              "      <td>520</td>\n",
              "      <td>106.734232</td>\n",
              "      <td>-6.557330</td>\n",
              "    </tr>\n",
              "  </tbody>\n",
              "</table>\n",
              "</div>"
            ],
            "text/plain": [
              "    id         Lng       Lat\n",
              "0  516  106.734238 -6.557372\n",
              "1  517  106.734241 -6.557371\n",
              "2  518  106.734241 -6.557373\n",
              "3  519  106.734231 -6.557375\n",
              "4  520  106.734232 -6.557330"
            ]
          },
          "execution_count": 561,
          "metadata": {},
          "output_type": "execute_result"
        }
      ],
      "source": [
        "Submission = pd.read_csv('Submission 10_Voting_Tuned_KNN_w_Tuned_Hist_w_LassoFeatureSelection_w_MinMaxScaler.csv')\n",
        "Submission.head()"
      ]
    },
    {
      "cell_type": "code",
      "execution_count": null,
      "metadata": {
        "id": "IrLBIFE90xNm"
      },
      "outputs": [],
      "source": [
        "# result_test = pd.concat([to_pred_before_scaling, Out['Lat'], Out['Lng']],axis=1)\n",
        "# result_test.to_excel('Hasil.xlsx', index=False)"
      ]
    }
  ],
  "metadata": {
    "accelerator": "GPU",
    "colab": {
      "provenance": []
    },
    "kernelspec": {
      "display_name": "Python 3",
      "language": "python",
      "name": "python3"
    },
    "language_info": {
      "codemirror_mode": {
        "name": "ipython",
        "version": 3
      },
      "file_extension": ".py",
      "mimetype": "text/x-python",
      "name": "python",
      "nbconvert_exporter": "python",
      "pygments_lexer": "ipython3",
      "version": "3.5.5"
    },
    "toc": {
      "base_numbering": 1,
      "nav_menu": {},
      "number_sections": true,
      "sideBar": true,
      "skip_h1_title": false,
      "title_cell": "Table of Contents",
      "title_sidebar": "Contents",
      "toc_cell": false,
      "toc_position": {},
      "toc_section_display": true,
      "toc_window_display": false
    },
    "varInspector": {
      "cols": {
        "lenName": 16,
        "lenType": 16,
        "lenVar": 40
      },
      "kernels_config": {
        "python": {
          "delete_cmd_postfix": "",
          "delete_cmd_prefix": "del ",
          "library": "var_list.py",
          "varRefreshCmd": "print(var_dic_list())"
        },
        "r": {
          "delete_cmd_postfix": ") ",
          "delete_cmd_prefix": "rm(",
          "library": "var_list.r",
          "varRefreshCmd": "cat(var_dic_list()) "
        }
      },
      "types_to_exclude": [
        "module",
        "function",
        "builtin_function_or_method",
        "instance",
        "_Feature"
      ],
      "window_display": false
    }
  },
  "nbformat": 4,
  "nbformat_minor": 0
}
